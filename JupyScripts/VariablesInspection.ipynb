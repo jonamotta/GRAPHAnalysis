{
 "cells": [
  {
   "cell_type": "markdown",
   "metadata": {},
   "source": [
    "# VISUALIZATION OF EVENTS IN HGCAL "
   ]
  },
  {
   "cell_type": "code",
   "execution_count": 1,
   "metadata": {},
   "outputs": [
    {
     "name": "stdout",
     "output_type": "stream",
     "text": [
      "Welcome to JupyROOT 6.14/04\n"
     ]
    }
   ],
   "source": [
    "import ROOT\n",
    "import pandas as pd\n",
    "import numpy as np \n",
    "\n",
    "import os\n",
    "import sys\n",
    "\n",
    "import matplotlib as mpl\n",
    "import matplotlib.pyplot as plt\n",
    "from mpl_toolkits.mplot3d import Axes3D\n",
    "from matplotlib.colors import LogNorm\n",
    "mpl.rcParams['image.cmap'] = 'hot_r'"
   ]
  },
  {
   "cell_type": "code",
   "execution_count": null,
   "metadata": {},
   "outputs": [],
   "source": [
    "'''\n",
    "#TBranches containing the 3D TCs' info\n",
    "branches_tc = ['event', 'tc_id', 'tc_subdet', 'tc_zside', 'tc_layer', 'tc_waferu', 'tc_waferv', 'tc_wafertype', 'tc_panel_number', 'tc_panel_sector', 'tc_cellu', 'tc_cellv', 'tc_data', 'tc_uncompressedCharge', 'tc_compressedCharge',  'tc_pt', 'tc_energy', 'tc_eta', 'tc_phi', 'tc_x', 'tc_y', 'tc_z', 'tc_mipPt', 'tc_cluster_id', 'tc_multicluster_id', 'tc_multicluster_pt']\n",
    "branches_tc_flatten = ['tc_id', 'tc_subdet', 'tc_zside', 'tc_layer', 'tc_waferu', 'tc_waferv', 'tc_wafertype', 'tc_panel_number', 'tc_panel_sector', 'tc_cellu', 'tc_cellv', 'tc_data', 'tc_uncompressedCharge', 'tc_compressedCharge',  'tc_pt', 'tc_energy', 'tc_eta', 'tc_phi', 'tc_x', 'tc_y', 'tc_z', 'tc_mipPt', 'tc_cluster_id', 'tc_multicluster_id', 'tc_multicluster_pt']\n",
    "\n",
    "#TBranches containing the 3D clusters' info\n",
    "branches_cl3d = ['event', 'cl3_id', 'cl3d_pt', 'cl3d_energy', 'cl3d_eta', 'cl3d_phi', 'cl3d_clusters_n', 'cl3d_showerlength', 'cl3d_coreshowerlength',  'cl3d_firstlayer','cl3d_maxlayer','cl3d_seetot', 'cl3d_spptot', 'cl3d_sppmax', 'cl3d_szz', 'cl3d_srrtot', 'cl3d_srrmax', 'cl3d_srrmean',  'cled_emaxe', 'cl3d_hoe', 'cl3d_meanz', 'cl3d_layer10', 'cl3d_layer50', 'cl3d_layer90',  'cl3d_ntc67', 'cl3d_ntc90', 'cl3d_bdteg', 'cl3d_uality']\n",
    "branches_cl3d_flatten = ['cl3_id', 'cl3d_pt', 'cl3d_energy', 'cl3d_eta', 'cl3d_phi', 'cl3d_clusters_n', 'cl3d_showerlength', 'cl3d_coreshowerlength',  'cl3d_firstlayer','cl3d_maxlayer','cl3d_seetot', 'cl3d_spptot', 'cl3d_sppmax', 'cl3d_szz', 'cl3d_srrtot', 'cl3d_srrmax', 'cl3d_srrmean',  'cled_emaxe', 'cl3d_hoe', 'cl3d_meanz', 'cl3d_layer10', 'cl3d_layer50', 'cl3d_layer90',  'cl3d_ntc67', 'cl3d_ntc90', 'cl3d_bdteg', 'cl3d_uality']\n",
    "\n",
    "# TBranches containing the gen taus' info\n",
    "branches_gentau = ['event', 'gentau_pt', 'gentau_eta', 'gentau_phi', 'gentau_energy', 'gentau_mass', 'gentau_vis_pt', 'gentau_vis_eta', 'gentau_vis_phi', 'gentau_vis_energy', 'gentau_vis_mass', 'gentau_decayMode']\n",
    "branches_gentau_flatten = ['gentau_pt', 'gentau_eta', 'gentau_phi', 'gentau_energy', 'gentau_mass', 'gentau_vis_pt', 'gentau_vis_eta', 'gentau_vis_phi', 'gentau_vis_energy', 'gentau_vis_mass', 'gentau_decayMode']\n",
    "\n",
    "# TBranches containing the gen jets' info\n",
    "branches_genjet = ['event', 'genjet_pt', 'genjet_eta', 'genjet_phi', 'genjet_energy', 'genjet_mass']\n",
    "branches_genjet_flatten = ['genjet_pt', 'genjet_eta', 'genjet_phi', 'genjet_energy', 'genjet_mass']\n",
    "'''"
   ]
  },
  {
   "cell_type": "code",
   "execution_count": 2,
   "metadata": {},
   "outputs": [
    {
     "name": "stdout",
     "output_type": "stream",
     "text": [
      "8471\n"
     ]
    }
   ],
   "source": [
    "indir = '/data_cms_upgrade/motta/HGCAL_SKIMS/SKIM_22Apr2021'\n",
    "rfile = ROOT.TFile.Open(indir+'/SKIM_RelValTenTau_noPU_caloTruth/mergedOutput.root')\n",
    "tree = rfile.Get('HGCALskimmedTree')\n",
    "\n",
    "TAU = True\n",
    "QCD = False\n",
    "\n",
    "print(tree.GetEntries())"
   ]
  },
  {
   "cell_type": "code",
   "execution_count": null,
   "metadata": {
    "scrolled": true
   },
   "outputs": [],
   "source": [
    "print('LIST OF ENTRIES WITH ONE TAU PER ENDCAP')\n",
    "for evt in range(tree.GetEntries()):\n",
    "    tree.GetEntry(evt)\n",
    "    taus = []\n",
    "    for t in range(len(tree.gentau_decayMode)):\n",
    "        if abs(tree.gentau_eta[t]) >= 1.5 or abs(tree.gentau_eta[t]) <= 3.0:\n",
    "            taus.append(t)    \n",
    "    l = len(taus)\n",
    "    if l <= 2 and l > 0: \n",
    "        if l == 2:\n",
    "            gen_eta = tree.gentau_vis_eta\n",
    "            if gen_eta[0]*gen_eta[1] < 0:\n",
    "                print(evt, end = ', ')\n",
    "        else:\n",
    "            print(evt, end = ', ')"
   ]
  },
  {
   "cell_type": "code",
   "execution_count": null,
   "metadata": {
    "scrolled": true
   },
   "outputs": [],
   "source": [
    "print(r'LIST OF ENTRIES WITH ONE TAU PER ENDCAP AND PI0 IN THE DECAY')\n",
    "for evt in range(tree.GetEntries()):\n",
    "    tree.GetEntry(evt)\n",
    "    l = len(tree.gentau_decayMode)\n",
    "    if l <= 2and l > 0: \n",
    "        if l == 2:\n",
    "            gen_eta = tree.gentau_vis_eta\n",
    "            gen_dm = tree.gentau_decayMode\n",
    "            if (gen_eta[0]*gen_eta[1]) < 0 and (gen_dm[0] == 1 or gen_dm[0] == 11) or (gen_dm[1] == 1 or gen_dm[1] == 11 < 0):\n",
    "                print(evt, end = ', ')\n",
    "        else:\n",
    "            gen_dm = tree.gentau_decayMode\n",
    "            if gen_dm[0] == 1 or gen_dm[0] == 11:\n",
    "                print(evt, end = ', ')"
   ]
  },
  {
   "cell_type": "code",
   "execution_count": 3,
   "metadata": {},
   "outputs": [
    {
     "data": {
      "text/plain": [
       "272472"
      ]
     },
     "execution_count": 3,
     "metadata": {},
     "output_type": "execute_result"
    }
   ],
   "source": [
    "entry = 17 # this is the entry number [0,nEntries] NOT the event number\n",
    "tree.GetEntry(entry)"
   ]
  },
  {
   "cell_type": "code",
   "execution_count": 4,
   "metadata": {
    "scrolled": false
   },
   "outputs": [
    {
     "name": "stdout",
     "output_type": "stream",
     "text": [
      "======> EVENT:17\n",
      " run             = 1\n",
      " event           = 7317\n",
      " lumi            = 74\n",
      " genjet_n        = -1\n",
      " genjet_pt       = (vector<float>*)0xa4d1da0\n",
      " genjet_eta      = (vector<float>*)0xa52d170\n",
      " genjet_phi      = (vector<float>*)0xa534600\n",
      " genjet_energy   = (vector<float>*)0xa4e8480\n",
      " genjet_mass     = (vector<float>*)0xa51f730\n",
      " gentau_n        = 2\n",
      " gentau_pt       = (vector<float>*)0xa522e10\n",
      " gentau_eta      = (vector<float>*)0xa51d320\n",
      " gentau_phi      = (vector<float>*)0xa4d1e00\n",
      " gentau_energy   = (vector<float>*)0xa52b700\n",
      " gentau_mass     = (vector<float>*)0xa52b3d0\n",
      " gentau_vis_pt   = (vector<float>*)0xa522be0\n",
      " gentau_vis_eta  = (vector<float>*)0xa52b2a0\n",
      " gentau_vis_phi  = (vector<float>*)0xa52a1d0\n",
      " gentau_vis_energy = (vector<float>*)0xa4d5b10\n",
      " gentau_vis_mass = (vector<float>*)0xa4d6c60\n",
      " gentau_decayMode = (vector<int>*)0xa533580\n",
      " gentau_products_pt = (vector<vector<float> >*)0xab026f0\n",
      " gentau_products_eta = (vector<vector<float> >*)0xaabd3c0\n",
      " gentau_products_phi = (vector<vector<float> >*)0xaac39d0\n",
      " gentau_products_energy = (vector<vector<float> >*)0xaae1990\n",
      " gentau_products_mass = (vector<vector<float> >*)0xaac9280\n",
      " gentau_products_id = (vector<vector<int> >*)0xab9e920\n",
      " gentau_totNproducts = (vector<int>*)0xaacb9c0\n",
      " gentau_totNgamma = (vector<int>*)0xaae20a0\n",
      " gentau_totNpiZero = (vector<int>*)0xaabffb0\n",
      " gentau_totNcharged = (vector<int>*)0xaac8700\n",
      " genpart_gen     = (vector<int>*)0xaac7210\n",
      " tc_n            = 615\n",
      " tc_id           = (vector<unsigned int>*)0xa4d3e70\n",
      " tc_subdet       = (vector<int>*)0xaabf290\n",
      " tc_zside        = (vector<int>*)0xab86270\n",
      " tc_layer        = (vector<int>*)0xa51c990\n",
      " tc_waferu       = (vector<int>*)0xab9ea00\n",
      " tc_waferv       = (vector<int>*)0xab9eb90\n",
      " tc_wafertype    = (vector<int>*)0xaba6970\n",
      " tc_panel_number = (vector<int>*)0xab8add0\n",
      " tc_panel_sector = (vector<int>*)0xabb6770\n",
      " tc_cellu        = (vector<int>*)0xabb6c60\n",
      " tc_cellv        = (vector<int>*)0xab8f720\n",
      " tc_data         = (vector<unsigned int>*)0xab90b00\n",
      " tc_uncompressedCharge = (vector<unsigned int>*)0xab91ee0\n",
      " tc_compressedCharge = (vector<unsigned int>*)0xab932f0\n",
      " tc_pt           = (vector<float>*)0xab94730\n",
      " tc_mipPt        = (vector<float>*)0xab95b40\n",
      " tc_energy       = (vector<float>*)0xab96f20\n",
      " tc_eta          = (vector<float>*)0xab98300\n",
      " tc_phi          = (vector<float>*)0xab996e0\n",
      " tc_x            = (vector<float>*)0xab9aac0\n",
      " tc_y            = (vector<float>*)0xab9bea0\n",
      " tc_z            = (vector<float>*)0xab9ce10\n",
      " tc_cluster_id   = (vector<unsigned int>*)0xabbcd10\n",
      " tc_multicluster_id = (vector<unsigned int>*)0xabbd590\n",
      " tc_multicluster_pt = (vector<float>*)0xabbe9a0\n",
      " tc_genparticle_index = (vector<int>*)0xabbfde0\n",
      " cl3d_n          = 4\n",
      " cl3d_id         = (vector<unsigned int>*)0xabc3810\n",
      " cl3d_pt         = (vector<float>*)0xabc4120\n",
      " cl3d_energy     = (vector<float>*)0xabc6170\n",
      " cl3d_eta        = (vector<float>*)0xabc4c00\n",
      " cl3d_phi        = (vector<float>*)0xabc4ac0\n",
      " cl3d_clusters_n = (vector<int>*)0xabc5910\n",
      " cl3d_clusters_id = (vector<vector<unsigned int> >*)0xac3cda0\n",
      " cl3d_showerlength = (vector<int>*)0xa5e8950\n",
      " cl3d_coreshowerlength = (vector<int>*)0xabe5150\n",
      " cl3d_firstlayer = (vector<int>*)0xac3cd80\n",
      " cl3d_maxlayer   = (vector<int>*)0xabe9e70\n",
      " cl3d_seetot     = (vector<float>*)0xac46de0\n",
      " cl3d_seemax     = (vector<float>*)0xac167f0\n",
      " cl3d_spptot     = (vector<float>*)0xac2d430\n",
      " cl3d_sppmax     = (vector<float>*)0xac0e3f0\n",
      " cl3d_szz        = (vector<float>*)0xac4b4e0\n",
      " cl3d_srrtot     = (vector<float>*)0xac4b360\n",
      " cl3d_srrmax     = (vector<float>*)0xabe9220\n",
      " cl3d_srrmean    = (vector<float>*)0xac2cf40\n",
      " cl3d_emaxe      = (vector<float>*)0xac0db30\n",
      " cl3d_hoe        = (vector<float>*)0xac0dcd0\n",
      " cl3d_meanz      = (vector<float>*)0xac0df40\n",
      " cl3d_layer10    = (vector<float>*)0xac0cbd0\n",
      " cl3d_layer50    = (vector<float>*)0xac36270\n",
      " cl3d_layer90    = (vector<float>*)0xac2c500\n",
      " cl3d_ntc67      = (vector<float>*)0xac36900\n",
      " cl3d_ntc90      = (vector<float>*)0xac3da50\n",
      " cl3d_bdteg      = (vector<float>*)0xac2c240\n",
      " cl3d_quality    = (vector<int>*)0xac63790\n",
      " cl3d_genparticle_index = (vector<int>*)0xac64160\n",
      " tctruth_n       = 1925\n",
      " tctruth_id      = (vector<unsigned int>*)0xac6df80\n",
      " tctruth_subdet  = (vector<int>*)0xac6d7a0\n",
      " tctruth_zside   = (vector<int>*)0xac88180\n",
      " tctruth_layer   = (vector<int>*)0xaf58ce0\n",
      " tctruth_waferu  = (vector<int>*)0xac88a00\n",
      " tctruth_waferv  = (vector<int>*)0xac8b220\n",
      " tctruth_wafertype = (vector<int>*)0xac8da70\n",
      " tctruth_panel_number = (vector<int>*)0xac902c0\n",
      " tctruth_panel_sector = (vector<int>*)0xac92b40\n",
      " tctruth_cellu   = (vector<int>*)0xac953f0\n",
      " tctruth_cellv   = (vector<int>*)0xac97ca0\n",
      " tctruth_data    = (vector<unsigned int>*)0xac9a520\n",
      " tctruth_uncompressedCharge = (vector<unsigned int>*)0xac9cd70\n",
      " tctruth_compressedCharge = (vector<unsigned int>*)0xac9f5c0\n",
      " tctruth_pt      = (vector<float>*)0xaca1e40\n",
      " tctruth_mipPt   = (vector<float>*)0xaca46f0\n",
      " tctruth_energy  = (vector<float>*)0xaca6f70\n",
      " tctruth_eta     = (vector<float>*)0xaca97c0\n",
      " tctruth_phi     = (vector<float>*)0xacac010\n",
      " tctruth_x       = (vector<float>*)0xacae860\n",
      " tctruth_y       = (vector<float>*)0xacb10b0\n",
      " tctruth_z       = (vector<float>*)0xacb3900\n",
      " tctruth_cluster_id = (vector<unsigned int>*)0xacb6150\n",
      " tctruth_multicluster_id = (vector<unsigned int>*)0xacb89a0\n",
      " tctruth_multicluster_pt = (vector<float>*)0xacbb220\n",
      " cl3dtruth_n     = 15\n",
      " cl3dtruth_id    = (vector<unsigned int>*)0xacbdad0\n",
      " cl3dtruth_pt    = (vector<float>*)0xacc46e0\n",
      " cl3dtruth_energy = (vector<float>*)0xacc6730\n",
      " cl3dtruth_eta   = (vector<float>*)0xacc51c0\n",
      " cl3dtruth_phi   = (vector<float>*)0xacc67d0\n",
      " cl3dtruth_clusters_n = (vector<int>*)0xacc6020\n",
      " cl3dtruth_clusters_id = (vector<vector<unsigned int> >*)0xaccb440\n",
      " cl3dtruth_showerlength = (vector<int>*)0xaccbd50\n",
      " cl3dtruth_coreshowerlength = (vector<int>*)0xace49e0\n",
      " cl3dtruth_firstlayer = (vector<int>*)0xace4c30\n",
      " cl3dtruth_maxlayer = (vector<int>*)0xaced580\n",
      " cl3dtruth_seetot = (vector<float>*)0xace2e00\n",
      " cl3dtruth_seemax = (vector<float>*)0xace87b0\n",
      " cl3dtruth_spptot = (vector<float>*)0xace87f0\n",
      " cl3dtruth_sppmax = (vector<float>*)0xacf0bf0\n",
      " cl3dtruth_szz   = (vector<float>*)0xacf5580\n",
      " cl3dtruth_srrtot = (vector<float>*)0xacf0c90\n",
      " cl3dtruth_srrmax = (vector<float>*)0xacfaef0\n",
      " cl3dtruth_srrmean = (vector<float>*)0xacfb9e0\n",
      " cl3dtruth_emaxe = (vector<float>*)0xacfbb80\n",
      " cl3dtruth_hoe   = (vector<float>*)0xad1d830\n",
      " cl3dtruth_meanz = (vector<float>*)0xad0ee50\n",
      " cl3dtruth_layer10 = (vector<float>*)0xad0f890\n",
      " cl3dtruth_layer50 = (vector<float>*)0xad0f8d0\n",
      " cl3dtruth_layer90 = (vector<float>*)0xad19220\n",
      " cl3dtruth_ntc67 = (vector<float>*)0xad22500\n",
      " cl3dtruth_ntc90 = (vector<float>*)0xad22fa0\n",
      " cl3dtruth_bdteg = (vector<float>*)0xad3b100\n",
      " cl3dtruth_quality = (vector<int>*)0xad2c7f0\n",
      " cl3dfulltruth_n = -1\n",
      " cl3dfulltruth_id = (vector<unsigned int>*)0xad36080\n",
      " cl3dfulltruth_pt = (vector<float>*)0xad404d0\n",
      " cl3dfulltruth_energy = (vector<float>*)0xad4dc60\n",
      " cl3dfulltruth_eta = (vector<float>*)0xad4e740\n",
      " cl3dfulltruth_phi = (vector<float>*)0xad4f220\n",
      " cl3dfulltruth_clusters_n = (vector<int>*)0xad4fd00\n",
      " cl3dfulltruth_clusters_id = (vector<vector<unsigned int> >*)0xad5aab0\n",
      " cl3dfulltruth_showerlength = (vector<int>*)0xad5d560\n",
      " cl3dfulltruth_coreshowerlength = (vector<int>*)0xad5d6b0\n",
      " cl3dfulltruth_firstlayer = (vector<int>*)0xad9f920\n",
      " cl3dfulltruth_maxlayer = (vector<int>*)0xad99c40\n",
      " cl3dfulltruth_seetot = (vector<float>*)0xad9a720\n",
      " cl3dfulltruth_seemax = (vector<float>*)0xad9b200\n",
      " cl3dfulltruth_spptot = (vector<float>*)0xada6a50\n",
      " cl3dfulltruth_sppmax = (vector<float>*)0xada7530\n",
      " cl3dfulltruth_szz = (vector<float>*)0xada8010\n",
      " cl3dfulltruth_srrtot = (vector<float>*)0xada8af0\n",
      " cl3dfulltruth_srrmax = (vector<float>*)0xada95d0\n",
      " cl3dfulltruth_srrmean = (vector<float>*)0xadef1d0\n",
      " cl3dfulltruth_emaxe = (vector<float>*)0xadef430\n",
      " cl3dfulltruth_hoe = (vector<float>*)0xadc8ef0\n",
      " cl3dfulltruth_meanz = (vector<float>*)0xadc99d0\n",
      " cl3dfulltruth_layer10 = (vector<float>*)0xadca4b0\n",
      " cl3dfulltruth_layer50 = (vector<float>*)0xadca7c0\n",
      " cl3dfulltruth_layer90 = (vector<float>*)0xadd7540\n",
      " cl3dfulltruth_ntc67 = (vector<float>*)0xadd8030\n",
      " cl3dfulltruth_ntc90 = (vector<float>*)0xadd8b10\n",
      " cl3dfulltruth_bdteg = (vector<float>*)0xadd9500\n",
      " cl3dfulltruth_quality = (vector<int>*)0xadd9d40\n"
     ]
    }
   ],
   "source": [
    "tree.Show(entry)"
   ]
  },
  {
   "cell_type": "code",
   "execution_count": 5,
   "metadata": {},
   "outputs": [
    {
     "name": "stdout",
     "output_type": "stream",
     "text": [
      "FOUND 2 TAUS IN THIS EVENT\n"
     ]
    }
   ],
   "source": [
    "if TAU:\n",
    "    gen_dm = tree.gentau_decayMode \n",
    "    print('FOUND',len(gen_dm),'TAUS IN THIS EVENT')\n",
    "    gen_pt = tree.gentau_vis_pt\n",
    "    gen_eta = tree.gentau_vis_eta\n",
    "    gen_phi = tree.gentau_vis_phi\n",
    "    gen_mass = tree.gentau_vis_mass\n",
    "    gen_energy = tree.gentau_vis_energy\n",
    "elif QCD:\n",
    "    gen_dm = -2*np.sgn(tree.genjet_pt)\n",
    "    gen_pt = tree.genjet_pt\n",
    "    gen_eta = tree.genjet_eta\n",
    "    gen_phi = tree.genjet_phi\n",
    "    gen_mass = tree.genjet_mass\n",
    "\n",
    "gen_dict = {}\n",
    "\n",
    "for i in range(len(gen_pt)):\n",
    "    gen_dict[i] = {'DM': {}, 'v4': {}}\n",
    "    gen_dict[i]['DM'] = gen_dm[i]\n",
    "    gen_dict[i]['v4'] = ROOT.TLorentzVector()\n",
    "    gen_dict[i]['v4'].SetPtEtaPhiM(gen_pt[i],gen_eta[i],gen_phi[i],gen_mass[i])"
   ]
  },
  {
   "cell_type": "code",
   "execution_count": 6,
   "metadata": {},
   "outputs": [],
   "source": [
    "cl3d_n      = tree.cl3d_n\n",
    "cl3d_id     = tree.cl3d_id\n",
    "cl3d_pt     = tree.cl3d_pt\n",
    "cl3d_energy = tree.cl3d_energy\n",
    "cl3d_eta    = tree.cl3d_eta\n",
    "cl3d_phi    = tree.cl3d_phi"
   ]
  },
  {
   "cell_type": "code",
   "execution_count": 7,
   "metadata": {
    "scrolled": false
   },
   "outputs": [
    {
     "name": "stderr",
     "output_type": "stream",
     "text": [
      "/opt/exp_soft/llr/python/3.7.0/el7/lib/python3.7/site-packages/matplotlib/figure.py:445: UserWarning: Matplotlib is currently using module://ipykernel.pylab.backend_inline, which is a non-GUI backend, so cannot show the figure.\n",
      "  % get_backend())\n"
     ]
    },
    {
     "name": "stdout",
     "output_type": "stream",
     "text": [
      "DM 11\n"
     ]
    },
    {
     "data": {
      "image/png": "[encoded data removed]",
      "text/plain": [
       "<Figure size 864x864 with 4 Axes>"
      ]
     },
     "metadata": {
      "needs_background": "light"
     },
     "output_type": "display_data"
    }
   ],
   "source": [
    "fig = plt.figure(figsize = (12,12))\n",
    "ax1 = fig.add_subplot(221)\n",
    "ax2 = fig.add_subplot(222)\n",
    "ax3 = fig.add_subplot(223)\n",
    "ax4 = fig.add_subplot(224)\n",
    "\n",
    "ax1.hist(gen_phi)\n",
    "ax2.hist(cl3d_phi[0])\n",
    "ax3.hist(gen_eta)\n",
    "ax4.hist(cl3d_eta[0])\n",
    "\n",
    "ax1.set_xlabel('gentau_phi')\n",
    "ax2.set_xlabel('cl3d_phi')\n",
    "ax3.set_xlabel('gentau_eta')\n",
    "ax4.set_xlabel('cl3d_eta')\n",
    "\n",
    "fig.show()\n",
    "\n",
    "print(\"DM\", gen_dm[0])"
   ]
  },
  {
   "cell_type": "code",
   "execution_count": null,
   "metadata": {},
   "outputs": [],
   "source": [
    "fig = plt.figure(figsize = (12,5))\n",
    "ax1 = fig.add_subplot(121)\n",
    "ax2 = fig.add_subplot(122)\n",
    "\n",
    "ax1.hist(gen_pt)\n",
    "ax2.hist(cl3d_pt)\n",
    "\n",
    "ax1.set_xlabel('gen_pt')\n",
    "ax2.set_xlabel('cl3d_pt')\n",
    "\n",
    "fig.show()\n",
    "\n",
    "print(\"DM\", gen_dm[0])"
   ]
  },
  {
   "cell_type": "code",
   "execution_count": null,
   "metadata": {},
   "outputs": [],
   "source": [
    "genpart_gen = tree.genpart_gen\n",
    "cl3d_genparticle_index = tree.cl3d_genparticle_index"
   ]
  },
  {
   "cell_type": "code",
   "execution_count": null,
   "metadata": {},
   "outputs": [],
   "source": [
    "fig = plt.figure(figsize = (12,5))\n",
    "ax1 = fig.add_subplot(121)\n",
    "ax2 = fig.add_subplot(122)\n",
    "\n",
    "ax1.hist(gen_pt)\n",
    "ax2.hist(cl3d_genparticle_index)\n",
    "\n",
    "ax1.set_xlabel('genpart_gen')\n",
    "ax2.set_xlabel('cl3d_genparticle_index')\n",
    "\n",
    "fig.show()\n",
    "\n",
    "print(\"DM\", gen_dm[0])"
   ]
  },
  {
   "cell_type": "code",
   "execution_count": null,
   "metadata": {},
   "outputs": [],
   "source": [
    "tc_cluster_id   = tree.tc_cluster_id\n",
    "tc_multicluster_id = tree.tc_multicluster_id\n",
    "tc_multicluster_pt = tree.tc_multicluster_pt\n",
    "tc_genparticle_index = tree.tc_genparticle_index"
   ]
  },
  {
   "cell_type": "code",
   "execution_count": null,
   "metadata": {},
   "outputs": [],
   "source": [
    "fig = plt.figure(figsize = (12,12))\n",
    "ax1 = fig.add_subplot(221)\n",
    "ax2 = fig.add_subplot(222)\n",
    "ax3 = fig.add_subplot(223)\n",
    "ax4 = fig.add_subplot(224)\n",
    "\n",
    "ax1.hist(tc_cluster_id)\n",
    "ax2.hist(tc_multicluster_id)\n",
    "ax3.hist(tc_multicluster_pt)\n",
    "ax4.hist(tc_genparticle_index)\n",
    "\n",
    "ax1.set_xlabel('tc_cluster_id')\n",
    "ax2.set_xlabel('tc_multicluster_id')\n",
    "ax3.set_xlabel('tc_multicluster_pt')\n",
    "ax4.set_xlabel('tc_genparticle_index')\n",
    "\n",
    "fig.show()\n",
    "\n",
    "print(\"DM\", gen_dm[0])"
   ]
  },
  {
   "cell_type": "code",
   "execution_count": null,
   "metadata": {},
   "outputs": [],
   "source": [
    "tctruth_cluster_id   = tree.tctruth_cluster_id\n",
    "tctruth_multicluster_id = tree.tctruth_multicluster_id\n",
    "tctruth_multicluster_pt = tree.tctruth_multicluster_pt"
   ]
  },
  {
   "cell_type": "code",
   "execution_count": null,
   "metadata": {},
   "outputs": [],
   "source": [
    "fig = plt.figure(figsize = (12,12))\n",
    "ax1 = fig.add_subplot(221)\n",
    "ax2 = fig.add_subplot(222)\n",
    "ax3 = fig.add_subplot(223)\n",
    "ax4 = fig.add_subplot(224)\n",
    "\n",
    "ax1.hist(tc_cluster_id)\n",
    "ax2.hist(tc_multicluster_id)\n",
    "ax3.hist(tc_multicluster_pt)\n",
    "\n",
    "ax1.set_xlabel('tctruth_cluster_id')\n",
    "ax2.set_xlabel('tctruth_multicluster_id')\n",
    "ax3.set_xlabel('tctruth_multicluster_pt')\n",
    "\n",
    "fig.show()\n",
    "\n",
    "print(\"DM\", gen_dm[0])"
   ]
  },
  {
   "cell_type": "code",
   "execution_count": null,
   "metadata": {},
   "outputs": [],
   "source": [
    "cl3d_n = tree.cl3d_n\n",
    "cl3d_id = tree.cl3d_id\n",
    "cl3d_clusters_n = tree.cl3d_clusters_n\n",
    "cl3d_clusters_id = tree.cl3d_clusters_id"
   ]
  },
  {
   "cell_type": "code",
   "execution_count": null,
   "metadata": {},
   "outputs": [],
   "source": [
    "fig = plt.figure(figsize = (12,12))\n",
    "ax1 = fig.add_subplot(221)\n",
    "ax2 = fig.add_subplot(222)\n",
    "ax3 = fig.add_subplot(223)\n",
    "ax4 = fig.add_subplot(224)\n",
    "\n",
    "ax1.hist(cl3d_n)\n",
    "ax2.hist(cl3d_id)\n",
    "ax3.hist(cl3d_clusters_n)\n",
    "ax4.hist(cl3d_clusters_id)\n",
    "\n",
    "ax1.set_xlabel('cl3d_n')\n",
    "ax2.set_xlabel('cl3d_id')\n",
    "ax3.set_xlabel('cl3d_clusters_n')\n",
    "ax4.set_xlabel('cl3d_clusters_id')\n",
    "\n",
    "fig.show()\n",
    "\n",
    "print(\"DM\", gen_dm[0])"
   ]
  },
  {
   "cell_type": "code",
   "execution_count": null,
   "metadata": {},
   "outputs": [],
   "source": [
    "cl3dtruth_n = tree.cl3dtruth_n\n",
    "cl3dtruth_id = tree.cl3dtruth_id\n",
    "cl3dtruth_clusters_n = tree.cl3dtruth_clusters_n\n",
    "cl3dtruth_clusters_id = tree.cl3dtruth_clusters_id"
   ]
  },
  {
   "cell_type": "code",
   "execution_count": null,
   "metadata": {},
   "outputs": [],
   "source": [
    "fig = plt.figure(figsize = (12,12))\n",
    "ax1 = fig.add_subplot(221)\n",
    "ax2 = fig.add_subplot(222)\n",
    "ax3 = fig.add_subplot(223)\n",
    "ax4 = fig.add_subplot(224)\n",
    "\n",
    "ax1.hist(cl3dtruth_n)\n",
    "ax2.hist(cl3dtruth_id)\n",
    "ax3.hist(cl3dtruth_clusters_n)\n",
    "ax4.hist(cl3dtruth_clusters_id)\n",
    "\n",
    "ax1.set_xlabel('cl3dtruth_n')\n",
    "ax2.set_xlabel('cl3dtruth_id')\n",
    "ax3.set_xlabel('cl3dtruth_clusters_n')\n",
    "ax4.set_xlabel('cl3dtruth_clusters_id')\n",
    "\n",
    "fig.show()\n",
    "\n",
    "print(\"DM\", gen_dm[0])"
   ]
  },
  {
   "cell_type": "code",
   "execution_count": null,
   "metadata": {},
   "outputs": [],
   "source": [
    "cl3dfulltruth_n = tree.cl3dfulltruth_n\n",
    "cl3dfulltruth_id = tree.cl3dfulltruth_id\n",
    "cl3dfulltruth_clusters_n = tree.cl3dfulltruth_clusters_n\n",
    "cl3dfulltruth_clusters_id = tree.cl3dfulltruth_clusters_id\n",
    "\n",
    "len(cl3dfulltruth_id)"
   ]
  },
  {
   "cell_type": "code",
   "execution_count": null,
   "metadata": {
    "scrolled": false
   },
   "outputs": [],
   "source": [
    "fig = plt.figure(figsize = (12,12))\n",
    "ax1 = fig.add_subplot(221)\n",
    "ax2 = fig.add_subplot(222)\n",
    "ax3 = fig.add_subplot(223)\n",
    "ax4 = fig.add_subplot(224)\n",
    "\n",
    "ax1.hist(cl3dfulltruth_n)\n",
    "ax2.hist(cl3dfulltruth_id)\n",
    "ax3.hist(cl3dfulltruth_clusters_n)\n",
    "ax4.hist(cl3dfulltruth_clusters_id)\n",
    "\n",
    "ax1.set_xlabel('cl3dfulltruth_n')\n",
    "ax2.set_xlabel('cl3dfulltruth_id')\n",
    "ax3.set_xlabel('cl3dfulltruth_clusters_n')\n",
    "ax4.set_xlabel('cl3dfulltruth_clusters_id')\n",
    "\n",
    "fig.show()\n",
    "\n",
    "print(\"DM\", gen_dm[0])"
   ]
  },
  {
   "cell_type": "markdown",
   "metadata": {},
   "source": [
    "# ------------------------------------------------------\n",
    "# ------------------------------------------------------"
   ]
  },
  {
   "cell_type": "markdown",
   "metadata": {},
   "source": [
    "## TEST STUFF THAT IS NOT WORKING"
   ]
  },
  {
   "cell_type": "code",
   "execution_count": null,
   "metadata": {},
   "outputs": [],
   "source": [
    "ROOT.ROOT.EnableImplicitMT(1)\n",
    "df = ROOT.RDataFrame(\"SkimmedTree\", indir+'/SKIM_RelValTenTau_PU200/mergedOutput.root')"
   ]
  },
  {
   "cell_type": "code",
   "execution_count": null,
   "metadata": {},
   "outputs": [],
   "source": [
    "df_z = df.Filter(\"tc_zside > 0\")\n",
    "report = df_z.Report()\n",
    "report.Print()"
   ]
  },
  {
   "cell_type": "code",
   "execution_count": null,
   "metadata": {},
   "outputs": [],
   "source": [
    "print(len(clusterID))"
   ]
  },
  {
   "cell_type": "code",
   "execution_count": null,
   "metadata": {},
   "outputs": [],
   "source": [
    "ROOT.gInterpreter.Declare('''\n",
    "vector< vector<float> > zSideSelection(string file_name, string tree_name, int entry) {\n",
    "    cout << \"here 1\" << endl;\n",
    "    TFile rfile(file_name.c_str());\n",
    "    TTree * tree = (TTree *)rfile.Get(tree_name.c_str());\n",
    "    cout << \"here 2\" << endl;\n",
    "    vector< vector<float> > out;\n",
    "    vector<float> out_tc_x;\n",
    "    vector<float> out_tc_y;\n",
    "    vector<float> out_tc_z;\n",
    "    vector<float> out_tc_layer;\n",
    "    vector<float> out_tc_cluster_id;\n",
    "    vector<float> out_tc_energy;\n",
    "    cout << \"here 3\" << endl;\n",
    "    vector<float> *in_tc_x;\n",
    "    vector<float> *in_tc_y;\n",
    "    vector<float> *in_tc_z;\n",
    "    vector<float> *in_tc_layer;\n",
    "    vector<float> *in_tc_cluster_id;\n",
    "    vector<float> *in_tc_energy;\n",
    "    vector<float> *in_tc_zside;\n",
    "    cout << \"here 4\" << endl;\n",
    "    tree->SetBranchAddress(\"tc_x\", &in_tc_x);\n",
    "    tree->SetBranchAddress(\"tc_y\", &in_tc_y);\n",
    "    tree->SetBranchAddress(\"tc_z\", &in_tc_z);\n",
    "    tree->SetBranchAddress(\"tc_layer\", &in_tc_layer);\n",
    "    tree->SetBranchAddress(\"tc_cluster_id\", &in_tc_cluster_id);\n",
    "    tree->SetBranchAddress(\"tc_energy\", &in_tc_energy);\n",
    "    tree->SetBranchAddress(\"tc_zside\", &in_tc_zside);\n",
    "    \n",
    "    cout << \"here 5\" << endl;\n",
    "    int entry_ok = tree->GetEntry((Long64_t)entry);\n",
    "    cout << \"here 6\" << endl;\n",
    "    if(entry_ok<0) {\n",
    "        cout << \"ENTRY \" << entry << \" NOT FOUND. MAX NUMBER OF ENTRIES IS \" << tree->GetEntries() << endl;\n",
    "        return out;\n",
    "    }\n",
    "\n",
    "    int tcs = (*in_tc_zside).size();\n",
    "\n",
    "    cout << (*in_tc_zside).size() << endl;\n",
    "\n",
    "    for (int i=0; i<tcs; i++){\n",
    "        if ((*in_tc_zside)[i] < 0) continue;\n",
    "        out_tc_x.push_back((*in_tc_x)[i]);\n",
    "        out_tc_y.push_back((*in_tc_y)[i]);\n",
    "        out_tc_z.push_back((*in_tc_z)[i]);\n",
    "        out_tc_layer.push_back((*in_tc_layer)[i]);\n",
    "        out_tc_cluster_id.push_back((*in_tc_cluster_id)[i]);\n",
    "        out_tc_energy.push_back((*in_tc_energy)[i]);\n",
    "    }\n",
    "\n",
    "    out.push_back(out_tc_x);\n",
    "    out.push_back(out_tc_y);\n",
    "    out.push_back(out_tc_z);\n",
    "    out.push_back(out_tc_layer);\n",
    "    out.push_back(out_tc_cluster_id);\n",
    "    out.push_back(out_tc_energy);\n",
    "    \n",
    "    return out;    \n",
    "}\n",
    "''')\n",
    "\n",
    "indir = '/data_CMS_upgrade/motta/HGCAL_SKIMS/SKIM_18Feb2021'\n",
    "rfile = indir+'/SKIM_GluGluHHTo2b2Tau_PU200/mergedOutput.root'\n",
    "tree = 'SkimmedTree'\n",
    "entry = 1000\n",
    "\n",
    "xyzlie_vector = ROOT.zSideSelection(rfile, tree, entry)\n",
    "print(len(xyzlie_vector))"
   ]
  }
 ],
 "metadata": {
  "kernelspec": {
   "display_name": "Python 3",
   "language": "python",
   "name": "python3"
  },
  "language_info": {
   "codemirror_mode": {
    "name": "ipython",
    "version": 3
   },
   "file_extension": ".py",
   "mimetype": "text/x-python",
   "name": "python",
   "nbconvert_exporter": "python",
   "pygments_lexer": "ipython3",
   "version": "3.7.0"
  }
 },
 "nbformat": 4,
 "nbformat_minor": 5
}
