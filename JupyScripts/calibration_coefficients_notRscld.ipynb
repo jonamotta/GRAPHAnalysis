{
 "cells": [
  {
   "cell_type": "code",
   "execution_count": 9,
   "metadata": {},
   "outputs": [],
   "source": [
    "import pickle\n",
    "import pandas as pd"
   ]
  },
  {
   "cell_type": "code",
   "execution_count": 2,
   "metadata": {},
   "outputs": [],
   "source": [
    "def save_obj(obj,dest):\n",
    "    with open(dest,'wb') as f:\n",
    "        pickle.dump(obj, f, pickle.HIGHEST_PROTOCOL)\n",
    "\n",
    "def load_obj(source):\n",
    "    with open(source,'rb') as f:\n",
    "        return pickle.load(f)"
   ]
  },
  {
   "cell_type": "code",
   "execution_count": 3,
   "metadata": {},
   "outputs": [],
   "source": [
    "C1model = load_obj('/home/llr/cms/motta/HGCAL/CMSSW_11_1_0/src/GRAPHAnalysis/L1BDT/pklModels/calibration_C1skimC2C3/model_c1_th_PU200.pkl')"
   ]
  },
  {
   "cell_type": "code",
   "execution_count": 4,
   "metadata": {},
   "outputs": [
    {
     "name": "stdout",
     "output_type": "stream",
     "text": [
      "C1model\n",
      "m  =  -13.279065\n",
      "z0 =  46.173668\n"
     ]
    }
   ],
   "source": [
    "print('C1model')\n",
    "print('m  = ',C1model.coef_[0])\n",
    "print('z0 = ',C1model.intercept_)"
   ]
  },
  {
   "cell_type": "code",
   "execution_count": null,
   "metadata": {},
   "outputs": [],
   "source": []
  },
  {
   "cell_type": "code",
   "execution_count": 5,
   "metadata": {},
   "outputs": [],
   "source": [
    "C3model = load_obj('/home/llr/cms/motta/HGCAL/CMSSW_11_1_0/src/GRAPHAnalysis/L1BDT/pklModels/calibration_C1skimC2C3/model_c3_th_PU200.pkl')"
   ]
  },
  {
   "cell_type": "code",
   "execution_count": 6,
   "metadata": {
    "scrolled": true
   },
   "outputs": [
    {
     "name": "stdout",
     "output_type": "stream",
     "text": [
      "C3model\n",
      "k0 =  82.61298096343806\n",
      "k1 =  -72.57047753753933\n",
      "k2 =  24.003302612116766\n",
      "k3 =  -3.4926634131095224\n",
      "k4 =  0.18802688117558475\n"
     ]
    }
   ],
   "source": [
    "print('C3model')\n",
    "print('k0 = ',C3model.intercept_)\n",
    "print('k1 = ',C3model.coef_[0])\n",
    "print('k2 = ',C3model.coef_[1])\n",
    "print('k3 = ',C3model.coef_[2])\n",
    "print('k4 = ',C3model.coef_[3])"
   ]
  },
  {
   "cell_type": "code",
   "execution_count": null,
   "metadata": {
    "scrolled": false
   },
   "outputs": [],
   "source": []
  },
  {
   "cell_type": "code",
   "execution_count": 7,
   "metadata": {},
   "outputs": [],
   "source": [
    "C2model = load_obj('/home/llr/cms/motta/HGCAL/CMSSW_11_1_0/src/GRAPHAnalysis/L1BDT/pklModels/calibration_C1skimC2C3/model_c2_th_PU200.pkl')"
   ]
  },
  {
   "cell_type": "code",
   "execution_count": 31,
   "metadata": {},
   "outputs": [],
   "source": [
    "indir = '/home/llr/cms/motta/HGCAL/CMSSW_11_1_0/src/GRAPHAnalysis/L1BDT/hdf5dataframes/calibrated_C1skimC2C3'\n",
    "\n",
    "name = 'threshold'\n",
    "    \n",
    "# define the input and output dictionaries for the handling of different datasets\n",
    "inFileTraining_dict = {\n",
    "    'threshold'    : indir+'/Training_PU200_th_calibrated.hdf5',\n",
    "    'mixed'        : indir+'/'\n",
    "}\n",
    "inFileValidation_dict = {\n",
    "    'threshold'    : indir+'/Validation_PU200_th_calibrated.hdf5',\n",
    "    'mixed'        : indir+'/'\n",
    "}\n",
    "\n",
    "store_tr = pd.HDFStore(inFileTraining_dict[name], mode='r')\n",
    "dfTr = store_tr[name]\n",
    "store_tr.close()\n",
    "\n",
    "store_tr = pd.HDFStore(inFileValidation_dict[name], mode='r')\n",
    "dfVal = store_tr[name]\n",
    "store_tr.close()\n",
    "\n",
    "df = pd.concat([dfTr, dfVal], sort=False)\n",
    "del dfTr, dfVal"
   ]
  },
  {
   "cell_type": "code",
   "execution_count": 32,
   "metadata": {},
   "outputs": [],
   "source": [
    "features = ['cl3d_showerlength', 'cl3d_coreshowerlength', 'cl3d_abseta', 'cl3d_spptot', 'cl3d_srrmean', 'cl3d_meanz']"
   ]
  },
  {
   "cell_type": "code",
   "execution_count": 33,
   "metadata": {},
   "outputs": [
    {
     "data": {
      "text/plain": [
       "cl3d_showerlength         50.000000\n",
       "cl3d_coreshowerlength     36.000000\n",
       "cl3d_abseta                3.163553\n",
       "cl3d_spptot                0.110640\n",
       "cl3d_srrmean               0.008145\n",
       "cl3d_meanz               510.058502\n",
       "dtype: float64"
      ]
     },
     "execution_count": 33,
     "metadata": {},
     "output_type": "execute_result"
    }
   ],
   "source": [
    "df[features].max()"
   ]
  },
  {
   "cell_type": "code",
   "execution_count": 34,
   "metadata": {},
   "outputs": [
    {
     "data": {
      "text/plain": [
       "cl3d_showerlength          1.000000\n",
       "cl3d_coreshowerlength      1.000000\n",
       "cl3d_abseta                1.473907\n",
       "cl3d_spptot                0.000000\n",
       "cl3d_srrmean               0.000000\n",
       "cl3d_meanz               322.102722\n",
       "dtype: float64"
      ]
     },
     "execution_count": 34,
     "metadata": {},
     "output_type": "execute_result"
    }
   ],
   "source": [
    "df[features].min()"
   ]
  },
  {
   "cell_type": "code",
   "execution_count": null,
   "metadata": {},
   "outputs": [],
   "source": []
  },
  {
   "cell_type": "code",
   "execution_count": null,
   "metadata": {},
   "outputs": [],
   "source": []
  },
  {
   "cell_type": "code",
   "execution_count": 17,
   "metadata": {},
   "outputs": [],
   "source": [
    "PUmodel = load_obj('/home/llr/cms/motta/HGCAL/CMSSW_11_1_0/src/GRAPHAnalysis/L1BDT/pklModels/PUrejection_skimPUnoPt/model_PUrejection_th_PU200.pkl')"
   ]
  },
  {
   "cell_type": "code",
   "execution_count": 18,
   "metadata": {},
   "outputs": [
    {
     "data": {
      "text/plain": [
       "['cl3d_c3',\n",
       " 'cl3d_coreshowerlength',\n",
       " 'cl3d_srrtot',\n",
       " 'cl3d_srrmean',\n",
       " 'cl3d_hoe',\n",
       " 'cl3d_meanz']"
      ]
     },
     "execution_count": 18,
     "metadata": {},
     "output_type": "execute_result"
    }
   ],
   "source": [
    "PUmodel.feature_names"
   ]
  },
  {
   "cell_type": "code",
   "execution_count": 20,
   "metadata": {},
   "outputs": [],
   "source": [
    "features = ['cl3d_c3', 'cl3d_coreshowerlength', 'cl3d_srrtot', 'cl3d_srrmean', 'cl3d_hoe', 'cl3d_meanz']"
   ]
  },
  {
   "cell_type": "code",
   "execution_count": 21,
   "metadata": {},
   "outputs": [],
   "source": [
    "indir = '/home/llr/cms/motta/HGCAL/CMSSW_11_1_0/src/GRAPHAnalysis/L1BDT/hdf5dataframes/PUrejected_skimPUnoPt'\n",
    "\n",
    "name = 'threshold'\n",
    "    \n",
    "# define the input and output dictionaries for the handling of different datasets\n",
    "inFileTraining_dict = {\n",
    "    'threshold'    : indir+'/Training_PU200_th_PUrejected.hdf5',\n",
    "    'mixed'        : indir+'/'\n",
    "}\n",
    "inFileValidation_dict = {\n",
    "    'threshold'    : indir+'/Validation_PU200_th_PUrejected.hdf5',\n",
    "    'mixed'        : indir+'/'\n",
    "}\n",
    "\n",
    "store_tr = pd.HDFStore(inFileTraining_dict[name], mode='r')\n",
    "dfTr = store_tr[name]\n",
    "store_tr.close()\n",
    "\n",
    "store_tr = pd.HDFStore(inFileValidation_dict[name], mode='r')\n",
    "dfVal = store_tr[name]\n",
    "store_tr.close()\n",
    "\n",
    "df = pd.concat([dfTr, dfVal], sort=False)\n",
    "del dfTr, dfVal"
   ]
  },
  {
   "cell_type": "code",
   "execution_count": 22,
   "metadata": {},
   "outputs": [
    {
     "data": {
      "text/plain": [
       "cl3d_c3                    10.131953\n",
       "cl3d_coreshowerlength      36.000000\n",
       "cl3d_srrtot                 0.013705\n",
       "cl3d_srrmean                0.008145\n",
       "cl3d_hoe                 2270.953613\n",
       "cl3d_meanz                510.058502\n",
       "dtype: float64"
      ]
     },
     "execution_count": 22,
     "metadata": {},
     "output_type": "execute_result"
    }
   ],
   "source": [
    "df[features].max()"
   ]
  },
  {
   "cell_type": "code",
   "execution_count": 23,
   "metadata": {},
   "outputs": [
    {
     "data": {
      "text/plain": [
       "cl3d_c3                    0.491376\n",
       "cl3d_coreshowerlength      1.000000\n",
       "cl3d_srrtot                0.000000\n",
       "cl3d_srrmean               0.000000\n",
       "cl3d_hoe                   0.000000\n",
       "cl3d_meanz               322.102722\n",
       "dtype: float64"
      ]
     },
     "execution_count": 23,
     "metadata": {},
     "output_type": "execute_result"
    }
   ],
   "source": [
    "df[features].min()"
   ]
  },
  {
   "cell_type": "code",
   "execution_count": null,
   "metadata": {},
   "outputs": [],
   "source": []
  },
  {
   "cell_type": "code",
   "execution_count": 24,
   "metadata": {},
   "outputs": [],
   "source": [
    "ISOmodel = load_obj('/home/llr/cms/motta/HGCAL/CMSSW_11_1_0/src/GRAPHAnalysis/L1BDT/pklModels/isolation_skimPUnoPt_skimISO90hardPUrej_againstPU/model_isolation_PUWP90_th_PU200.pkl')"
   ]
  },
  {
   "cell_type": "code",
   "execution_count": 25,
   "metadata": {},
   "outputs": [
    {
     "data": {
      "text/plain": [
       "['cl3d_pt_tr',\n",
       " 'cl3d_abseta',\n",
       " 'cl3d_spptot',\n",
       " 'cl3d_srrtot',\n",
       " 'cl3d_srrmean',\n",
       " 'cl3d_hoe',\n",
       " 'cl3d_meanz',\n",
       " 'cl3d_NclIso_dR4',\n",
       " 'tower_etSgn_dRsgn1',\n",
       " 'tower_etSgn_dRsgn2',\n",
       " 'tower_etIso_dRsgn1_dRiso3']"
      ]
     },
     "execution_count": 25,
     "metadata": {},
     "output_type": "execute_result"
    }
   ],
   "source": [
    "ISOmodel.feature_names"
   ]
  },
  {
   "cell_type": "code",
   "execution_count": 26,
   "metadata": {},
   "outputs": [],
   "source": [
    "features = ['cl3d_pt_tr', 'cl3d_abseta', 'cl3d_spptot', 'cl3d_srrtot', 'cl3d_srrmean', 'cl3d_hoe', 'cl3d_meanz', 'cl3d_NclIso_dR4', 'tower_etSgn_dRsgn1', 'tower_etSgn_dRsgn2', 'tower_etIso_dRsgn1_dRiso3']"
   ]
  },
  {
   "cell_type": "code",
   "execution_count": 28,
   "metadata": {},
   "outputs": [],
   "source": [
    "indir = '/home/llr/cms/motta/HGCAL/CMSSW_11_1_0/src/GRAPHAnalysis/L1BDT/hdf5dataframes/isolated_skimPUnoPt_skimISO90hardPUrej_againstPU'\n",
    "\n",
    "name = 'threshold'\n",
    "    \n",
    "# define the input and output dictionaries for the handling of different datasets\n",
    "inFileTraining_dict = {\n",
    "    'threshold'    : indir+'/Training_PU200_th_PUWP90_isoQCDrejected.hdf5',\n",
    "    'mixed'        : indir+'/'\n",
    "}\n",
    "inFileValidation_dict = {\n",
    "    'threshold'    : indir+'/Validation_PU200_th_PUWP90_isoQCDrejected.hdf5',\n",
    "    'mixed'        : indir+'/'\n",
    "}\n",
    "\n",
    "store_tr = pd.HDFStore(inFileTraining_dict[name], mode='r')\n",
    "dfTr = store_tr[name]\n",
    "store_tr.close()\n",
    "\n",
    "store_tr = pd.HDFStore(inFileValidation_dict[name], mode='r')\n",
    "dfVal = store_tr[name]\n",
    "store_tr.close()\n",
    "\n",
    "df = pd.concat([dfTr, dfVal], sort=False)\n",
    "del dfTr, dfVal"
   ]
  },
  {
   "cell_type": "code",
   "execution_count": 29,
   "metadata": {},
   "outputs": [
    {
     "data": {
      "text/plain": [
       "cl3d_pt_tr                    704.190201\n",
       "cl3d_abseta                     3.096995\n",
       "cl3d_spptot                     0.087905\n",
       "cl3d_srrtot                     0.012620\n",
       "cl3d_srrmean                    0.006945\n",
       "cl3d_hoe                     2270.953613\n",
       "cl3d_meanz                    510.058502\n",
       "cl3d_NclIso_dR4                18.000000\n",
       "tower_etSgn_dRsgn1            539.903137\n",
       "tower_etSgn_dRsgn2            647.004333\n",
       "tower_etIso_dRsgn1_dRiso3    1082.279907\n",
       "dtype: float64"
      ]
     },
     "execution_count": 29,
     "metadata": {},
     "output_type": "execute_result"
    }
   ],
   "source": [
    "df[features].max()"
   ]
  },
  {
   "cell_type": "code",
   "execution_count": 30,
   "metadata": {},
   "outputs": [
    {
     "data": {
      "text/plain": [
       "cl3d_pt_tr                     1.648338\n",
       "cl3d_abseta                    1.483102\n",
       "cl3d_spptot                    0.000016\n",
       "cl3d_srrtot                    0.000000\n",
       "cl3d_srrmean                   0.000000\n",
       "cl3d_hoe                       0.000000\n",
       "cl3d_meanz                   322.102753\n",
       "cl3d_NclIso_dR4                0.000000\n",
       "tower_etSgn_dRsgn1             0.000000\n",
       "tower_etSgn_dRsgn2             5.840522\n",
       "tower_etIso_dRsgn1_dRiso3     13.681952\n",
       "dtype: float64"
      ]
     },
     "execution_count": 30,
     "metadata": {},
     "output_type": "execute_result"
    }
   ],
   "source": [
    "df[features].min()"
   ]
  },
  {
   "cell_type": "code",
   "execution_count": null,
   "metadata": {},
   "outputs": [],
   "source": []
  },
  {
   "cell_type": "code",
   "execution_count": null,
   "metadata": {},
   "outputs": [],
   "source": []
  },
  {
   "cell_type": "code",
   "execution_count": null,
   "metadata": {},
   "outputs": [],
   "source": []
  },
  {
   "cell_type": "code",
   "execution_count": null,
   "metadata": {},
   "outputs": [],
   "source": []
  },
  {
   "cell_type": "code",
   "execution_count": null,
   "metadata": {},
   "outputs": [],
   "source": []
  },
  {
   "cell_type": "code",
   "execution_count": null,
   "metadata": {},
   "outputs": [],
   "source": []
  },
  {
   "cell_type": "code",
   "execution_count": null,
   "metadata": {},
   "outputs": [],
   "source": []
  },
  {
   "cell_type": "code",
   "execution_count": null,
   "metadata": {},
   "outputs": [],
   "source": [
    "import ROOT\n",
    "ROOT.TMVA.Experimental.SaveXGBoost(PUmodel, 'PUmodel', 'PUmodel.root')"
   ]
  }
 ],
 "metadata": {
  "kernelspec": {
   "display_name": "Python 3",
   "language": "python",
   "name": "python3"
  },
  "language_info": {
   "codemirror_mode": {
    "name": "ipython",
    "version": 3
   },
   "file_extension": ".py",
   "mimetype": "text/x-python",
   "name": "python",
   "nbconvert_exporter": "python",
   "pygments_lexer": "ipython3",
   "version": "3.7.0"
  }
 },
 "nbformat": 4,
 "nbformat_minor": 2
}
