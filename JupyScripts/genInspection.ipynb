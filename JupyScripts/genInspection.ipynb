{
 "cells": [
  {
   "cell_type": "code",
   "execution_count": 1,
   "metadata": {},
   "outputs": [
    {
     "name": "stdout",
     "output_type": "stream",
     "text": [
      "Welcome to JupyROOT 6.14/04\n"
     ]
    }
   ],
   "source": [
    "import ROOT\n",
    "import pandas as pd\n",
    "import numpy as np \n",
    "\n",
    "import os\n",
    "import sys\n",
    "\n",
    "import matplotlib as mpl\n",
    "import matplotlib.pyplot as plt\n",
    "from mpl_toolkits.mplot3d import Axes3D\n",
    "from matplotlib.colors import LogNorm\n",
    "mpl.rcParams['image.cmap'] = 'hot_r'"
   ]
  },
  {
   "cell_type": "code",
   "execution_count": 2,
   "metadata": {},
   "outputs": [
    {
     "name": "stdout",
     "output_type": "stream",
     "text": [
      "200\n"
     ]
    }
   ],
   "source": [
    "indir = '~/HGCAL/CMSSW_11_1_0/src/GRAPHAnalysis/bigTrees_examples'\n",
    "rfile = ROOT.TFile.Open(indir+'/tenTau_PU200_caloTruth.root')\n",
    "tree = rfile.Get('hgcalTriggerNtuplizer/HGCalTriggerNtuple')\n",
    "print(tree.GetEntries())"
   ]
  },
  {
   "cell_type": "code",
   "execution_count": 3,
   "metadata": {},
   "outputs": [
    {
     "data": {
      "text/plain": [
       "37506237"
      ]
     },
     "execution_count": 3,
     "metadata": {},
     "output_type": "execute_result"
    }
   ],
   "source": [
    "entry = 0 # this is the entry number [0,nEntries] NOT the event number\n",
    "tree.GetEntry(entry)"
   ]
  },
  {
   "cell_type": "code",
   "execution_count": 4,
   "metadata": {},
   "outputs": [
    {
     "data": {
      "text/plain": [
       "211"
      ]
     },
     "execution_count": 4,
     "metadata": {},
     "output_type": "execute_result"
    }
   ],
   "source": [
    "tree.cl3d_n"
   ]
  },
  {
   "cell_type": "code",
   "execution_count": 5,
   "metadata": {},
   "outputs": [
    {
     "data": {
      "text/plain": [
       "7102"
      ]
     },
     "execution_count": 5,
     "metadata": {},
     "output_type": "execute_result"
    }
   ],
   "source": [
    "tree.event"
   ]
  },
  {
   "cell_type": "code",
   "execution_count": 6,
   "metadata": {},
   "outputs": [
    {
     "name": "stdout",
     "output_type": "stream",
     "text": [
      "1\n",
      "5\n",
      "13\n",
      "0\n",
      "5\n",
      "1\n",
      "1\n",
      "13\n",
      "11\n",
      "13\n"
     ]
    }
   ],
   "source": [
    "for i in range(len(tree.gentau_decayMode)):\n",
    "    print(tree.gentau_decayMode[i])"
   ]
  },
  {
   "cell_type": "code",
   "execution_count": 7,
   "metadata": {
    "scrolled": false
   },
   "outputs": [
    {
     "name": "stdout",
     "output_type": "stream",
     "text": [
      "-15\n",
      "15\n",
      "-15\n",
      "15\n",
      "-15\n",
      "15\n",
      "-15\n",
      "15\n",
      "-15\n",
      "15\n",
      "-16\n",
      "111\n",
      "211\n",
      "16\n",
      "111\n",
      "-211\n",
      "-211\n",
      "211\n",
      "-16\n",
      "-13\n",
      "14\n",
      "16\n",
      "-211\n",
      "-16\n",
      "111\n",
      "211\n",
      "211\n",
      "-211\n",
      "16\n",
      "111\n",
      "-211\n",
      "-16\n",
      "111\n",
      "211\n",
      "16\n",
      "13\n",
      "-14\n",
      "-16\n",
      "-11\n",
      "12\n",
      "16\n",
      "13\n",
      "-14\n",
      "22\n",
      "22\n",
      "22\n",
      "22\n",
      "22\n",
      "22\n",
      "22\n",
      "22\n",
      "22\n",
      "22\n"
     ]
    }
   ],
   "source": [
    "for i in range(len(tree.gen_pdgid)):\n",
    "    print(tree.gen_pdgid[i])"
   ]
  },
  {
   "cell_type": "code",
   "execution_count": 9,
   "metadata": {},
   "outputs": [
    {
     "name": "stdout",
     "output_type": "stream",
     "text": [
      "41\n",
      "41\n",
      "26\n",
      "35\n",
      "22\n",
      "41\n",
      "52\n",
      "38\n",
      "51\n",
      "51\n",
      "52\n",
      "51\n",
      "52\n",
      "52\n",
      "52\n",
      "51\n",
      "52\n",
      "50\n",
      "52\n",
      "52\n",
      "52\n",
      "51\n",
      "51\n",
      "52\n",
      "52\n",
      "51\n",
      "22\n",
      "22\n",
      "25\n",
      "22\n",
      "38\n",
      "22\n",
      "27\n",
      "30\n",
      "22\n",
      "22\n",
      "22\n",
      "22\n",
      "19\n",
      "52\n",
      "52\n",
      "48\n",
      "22\n",
      "22\n",
      "22\n",
      "22\n",
      "22\n",
      "22\n",
      "38\n",
      "35\n",
      "51\n",
      "51\n",
      "51\n",
      "19\n",
      "22\n",
      "22\n",
      "22\n",
      "22\n",
      "22\n",
      "22\n",
      "22\n",
      "22\n",
      "22\n",
      "22\n",
      "22\n",
      "22\n",
      "22\n",
      "22\n",
      "22\n",
      "22\n",
      "22\n",
      "22\n",
      "22\n",
      "22\n",
      "22\n",
      "22\n",
      "38\n",
      "38\n",
      "22\n",
      "22\n",
      "22\n",
      "22\n",
      "22\n",
      "22\n",
      "22\n",
      "22\n",
      "38\n",
      "38\n",
      "38\n",
      "38\n",
      "38\n",
      "26\n",
      "26\n",
      "51\n",
      "51\n",
      "51\n",
      "51\n",
      "51\n",
      "38\n",
      "51\n",
      "51\n",
      "51\n",
      "48\n",
      "22\n",
      "22\n",
      "22\n",
      "22\n",
      "22\n",
      "22\n",
      "38\n",
      "27\n",
      "52\n",
      "38\n",
      "38\n",
      "25\n",
      "22\n",
      "38\n",
      "52\n",
      "51\n",
      "38\n",
      "52\n",
      "19\n",
      "38\n",
      "49\n",
      "38\n",
      "38\n",
      "52\n",
      "15\n",
      "52\n",
      "52\n",
      "52\n",
      "26\n",
      "22\n",
      "38\n",
      "38\n",
      "26\n",
      "38\n",
      "22\n",
      "22\n",
      "22\n",
      "22\n",
      "22\n",
      "22\n",
      "51\n",
      "51\n",
      "51\n",
      "51\n",
      "51\n",
      "30\n",
      "30\n",
      "22\n",
      "22\n",
      "22\n",
      "22\n",
      "19\n",
      "51\n",
      "49\n",
      "51\n",
      "52\n",
      "52\n",
      "52\n",
      "38\n",
      "25\n",
      "22\n",
      "27\n",
      "22\n",
      "52\n",
      "51\n",
      "48\n",
      "22\n",
      "52\n",
      "52\n",
      "52\n",
      "22\n",
      "51\n",
      "52\n",
      "52\n",
      "51\n",
      "51\n",
      "52\n",
      "51\n",
      "51\n",
      "51\n",
      "52\n",
      "22\n",
      "22\n",
      "22\n",
      "22\n",
      "22\n",
      "22\n",
      "22\n",
      "22\n",
      "22\n",
      "22\n",
      "22\n",
      "22\n",
      "22\n",
      "22\n",
      "22\n",
      "22\n",
      "22\n",
      "51\n",
      "52\n",
      "51\n",
      "52\n",
      "52\n",
      "51\n",
      "51\n",
      "51\n",
      "52\n",
      "35\n",
      "38\n",
      "38\n",
      "22\n",
      "52\n",
      "52\n",
      "25\n"
     ]
    }
   ],
   "source": [
    "for i in range(len(tree.tc_genparticle_index)):\n",
    "    if tree.tc_genparticle_index[i] != -1: print(tree.tc_genparticle_index[i])"
   ]
  },
  {
   "cell_type": "code",
   "execution_count": null,
   "metadata": {},
   "outputs": [],
   "source": []
  },
  {
   "cell_type": "code",
   "execution_count": null,
   "metadata": {},
   "outputs": [],
   "source": []
  },
  {
   "cell_type": "code",
   "execution_count": null,
   "metadata": {},
   "outputs": [],
   "source": []
  },
  {
   "cell_type": "code",
   "execution_count": null,
   "metadata": {},
   "outputs": [],
   "source": [
    "indir = '~/HGCAL/CMSSW_11_1_0/src/GRAPHAnalysis/bigTrees_examples'\n",
    "rfile = ROOT.TFile.Open(indir+'/bigTree_Tau_noPu_calotruth/ntuple_1.root')\n",
    "tree = rfile.Get('hgcalTriggerNtuplizer/HGCalTriggerNtuple')\n",
    "\n",
    "TAU = True\n",
    "QCD = False\n",
    "\n",
    "print(tree.GetEntries())"
   ]
  },
  {
   "cell_type": "code",
   "execution_count": null,
   "metadata": {},
   "outputs": [],
   "source": [
    "'''\n",
    "evt = 7007\n",
    "for i in range(tree.GetEntries()):\n",
    "    tree.GetEntry(i)\n",
    "    if tree.event == evt:\n",
    "        print(\"entry\", i, \"event\", evt)\n",
    "        break\n",
    "'''"
   ]
  },
  {
   "cell_type": "code",
   "execution_count": null,
   "metadata": {},
   "outputs": [],
   "source": [
    "entry = 4 # this is the entry number [0,nEntries] NOT the event number\n",
    "tree.GetEntry(entry)"
   ]
  },
  {
   "cell_type": "code",
   "execution_count": null,
   "metadata": {},
   "outputs": [],
   "source": [
    "tree.event"
   ]
  },
  {
   "cell_type": "code",
   "execution_count": null,
   "metadata": {},
   "outputs": [],
   "source": [
    "tree.genpart_gen"
   ]
  },
  {
   "cell_type": "code",
   "execution_count": null,
   "metadata": {},
   "outputs": [],
   "source": [
    "genn = tree.gen_n\n",
    "pdgid = tree.gen_pdgid\n",
    "mother = tree.genpart_mother\n",
    "daughters = tree.gen_daughters[9]\n",
    "pid = tree.genpart_pid\n",
    "gen = tree.genpart_gen\n",
    "dvx = tree.genpart_dvx\n",
    "\n",
    "tau = tree.gentau_pt\n",
    "\n",
    "print(\"tree.gen_n \\t\\t\", genn)\n",
    "print(\"tree.gen_pdgid \\t\\t\", len(pdgid))\n",
    "print(\"\\ntree.genpart_mother \\t\", len(mother))\n",
    "print(\"tree.genpart_daughters \\t\", len(daughters))\n",
    "print(\"tree.genpart_pid \\t\", len(pid))\n",
    "print(\"tree.genpart_gen \\t\", len(gen))\n",
    "print(\"tree.genpart_dvx \\t\", len(dvx))\n",
    "print(\"\\ntree.gentau_pt \\t\\t\", len(tau))"
   ]
  },
  {
   "cell_type": "code",
   "execution_count": null,
   "metadata": {},
   "outputs": [],
   "source": [
    "fig = plt.figure(figsize = (12,12))\n",
    "ax1 = fig.add_subplot(321)\n",
    "ax2 = fig.add_subplot(322)\n",
    "ax3 = fig.add_subplot(323)\n",
    "ax4 = fig.add_subplot(324)\n",
    "\n",
    "ax1.hist(gen)\n",
    "ax2.hist(mother)\n",
    "ax3.hist(daughters)\n",
    "ax4.hist(pid)\n",
    "\n",
    "ax1.set_xlabel('gen')\n",
    "ax2.set_xlabel('mother')\n",
    "ax3.set_xlabel('daughters')\n",
    "ax4.set_xlabel('pid')\n",
    "\n",
    "fig.show()"
   ]
  },
  {
   "cell_type": "markdown",
   "metadata": {},
   "source": [
    "# CLUSTER - GENTAU ASSOCIATION AND INSPECTION"
   ]
  },
  {
   "cell_type": "code",
   "execution_count": null,
   "metadata": {},
   "outputs": [],
   "source": [
    "genIdx_iTau_map = {}\n",
    "iTau = -1\n",
    "doubleG = False\n",
    "i_pi_last = 10\n",
    "i_k_last = 10\n",
    "\n",
    "for i_gen in range(10,len(tree.gen_pdgid)):\n",
    "    #print(\"i_gen \", i_gen)\n",
    "    if ((tree.gen_pdgid[i_gen] == 16) or (tree.gen_pdgid[i_gen] == -16)):\n",
    "        iTau+=1\n",
    "        genIdx_iTau_map[i_gen] = iTau\n",
    "    elif tree.gen_pdgid[i_gen] == 22:\n",
    "        if doubleG: doubleG = False; continue\n",
    "        for i_pi in range(i_pi_last,i_gen):\n",
    "            #print(\"i_pi\", i_pi)\n",
    "            if abs(tree.gen_pdgid[i_pi]) == 111:\n",
    "                genIdx_iTau_map[i_gen]   = genIdx_iTau_map[i_pi]\n",
    "                genIdx_iTau_map[i_gen+1] = genIdx_iTau_map[i_pi]\n",
    "                i_pi_last = i_pi+1\n",
    "                doubleG = True\n",
    "                #print(\" ; i_pi_last \", i_pi_last)\n",
    "                break\n",
    "    elif (abs(tree.gen_pdgid[i_gen]) == 130) or (abs(tree.gen_pdgid[i_gen]) == 310):\n",
    "        for i_k in range(i_k_last,i_gen):\n",
    "            if abs(tree.gen_pdgid[i_k]) == 311:\n",
    "                genIdx_iTau_map[i_gen] = genIdx_iTau_map[i_k]\n",
    "                i_k_last = i_k+1\n",
    "                break\n",
    "    else:\n",
    "        genIdx_iTau_map[i_gen] = iTau"
   ]
  },
  {
   "cell_type": "code",
   "execution_count": null,
   "metadata": {
    "scrolled": true
   },
   "outputs": [],
   "source": [
    "print(\"GENERATOR LEVEL INDEX : iTAU\")\n",
    "genIdx_iTau_map"
   ]
  },
  {
   "cell_type": "code",
   "execution_count": null,
   "metadata": {
    "scrolled": true
   },
   "outputs": [],
   "source": [
    "print(\"GENERATOR LEVEL PARTICLES\\n\")\n",
    "print(\"INDEX \\t pdgID\")\n",
    "for i in range(len(tree.gen_pdgid)):\n",
    "    print(i, \"\\t\", tree.gen_pdgid[i])"
   ]
  },
  {
   "cell_type": "code",
   "execution_count": null,
   "metadata": {},
   "outputs": [],
   "source": [
    "print(\"TCs LEVEL FLAGS\\n\")\n",
    "print(\"INDEX \\t GENPARTICLE_INDEX \\t GENLEVEL iTau \\t pdgID\")\n",
    "for i in range(len(tree.tc_genparticle_index)):\n",
    "    if tree.tc_genparticle_index[i] < 0: continue\n",
    "    print(i, \"\\t\", tree.tc_genparticle_index[i], \"\\t\\t\\t\", genIdx_iTau_map[tree.tc_genparticle_index[i]] , \"\\t\\t\", tree.gen_pdgid[tree.tc_genparticle_index[i]])"
   ]
  },
  {
   "cell_type": "code",
   "execution_count": null,
   "metadata": {},
   "outputs": [],
   "source": [
    "TC_iTau_map = {}\n",
    "TC_pdgID_map = {}\n",
    "for i_tc in range(tree.tc_n):\n",
    "    TC_iTau_map[i_tc] =  genIdx_iTau_map[tree.tc_genparticle_index[i_tc]]\n",
    "    TC_pdgID_map[i_tc] =  tree.gen_pdgid[tree.tc_genparticle_index[i_tc]]"
   ]
  },
  {
   "cell_type": "code",
   "execution_count": null,
   "metadata": {},
   "outputs": [],
   "source": [
    "TC_iTau_map"
   ]
  },
  {
   "cell_type": "code",
   "execution_count": null,
   "metadata": {},
   "outputs": [],
   "source": [
    "TC_pdgID_map"
   ]
  },
  {
   "cell_type": "code",
   "execution_count": null,
   "metadata": {},
   "outputs": [],
   "source": [
    "print(\"GEANT4 LEVEL PARTICLES\\n\")\n",
    "print(\"INDEX \\t GEN_INDEX+1 \\t pdgID\")\n",
    "for i in range(len(tree.genpart_gen)):\n",
    "    if ((tree.genpart_gen[i]!=-1) and (tree.genpart_pid[i]!=15)):\n",
    "        print(i, \"\\t\", tree.genpart_gen[i], \"\\t\\t\", tree.genpart_pid[i])"
   ]
  },
  {
   "cell_type": "code",
   "execution_count": null,
   "metadata": {},
   "outputs": [],
   "source": [
    "for i_tc in range(tree.tc_n):\n",
    "    print(tree.tc_multicluster_id[i_tc])"
   ]
  },
  {
   "cell_type": "code",
   "execution_count": null,
   "metadata": {},
   "outputs": [],
   "source": [
    "for i_cl in range(tree.cl3d_n):\n",
    "    print(tree.cl3d_id[i_cl])"
   ]
  },
  {
   "cell_type": "code",
   "execution_count": null,
   "metadata": {},
   "outputs": [],
   "source": [
    "cl3d_iTau_map = {}\n",
    "cl3d_pdgID_map = {}\n",
    "cl3d_pdgID_occurrence_map = {}\n",
    "\n",
    "for i_cl3d in range(tree.cl3d_id.size()):\n",
    "    iTau_occurrence_map = {0: 0, 1: 0, 2: 0, 3: 0, 4: 0, 5: 0, 6: 0, 7: 0, 8: 0, 9: 0}\n",
    "    pdgID_occurrence_map = {211: 0, 111: 0, 130: 0, -130:0, 22: 0, -211:0, 11: 0, -11:0, 13: 0, -13: 0}\n",
    "    iTau_max_occurrence = 0\n",
    "    iTau_majority_idx = -1\n",
    "    pdgID_vec = []\n",
    "    pdgID_occurrence_vec = []\n",
    "    total_tcs_in_cl = 0\n",
    "    \n",
    "    for i_tc in range(tree.tc_multicluster_id.size()):\n",
    "        if tree.tc_multicluster_id[i_tc] != tree.cl3d_id[i_cl3d]: continue\n",
    "        \n",
    "        iTau_occurrence_map[TC_iTau_map[i_tc]]   += 1\n",
    "        pdgID_occurrence_map[TC_pdgID_map[i_tc]] += 1\n",
    "        total_tcs_in_cl += 1\n",
    "\n",
    "        if iTau_occurrence_map[TC_iTau_map[i_tc]] > iTau_max_occurrence:\n",
    "            iTau_max_occurrence = iTau_occurrence_map[TC_iTau_map[i_tc]]\n",
    "            iTau_majority_idx = TC_iTau_map[i_tc]\n",
    "    \n",
    "    print(total_tcs_in_cl)\n",
    "    \n",
    "    for it in pdgID_occurrence_map:\n",
    "        #if float(pdgID_occurrence_map[it])/float(total_tcs_in_cl) < 0.10: continue\n",
    "        pdgID_occurrence_vec.append(pdgID_occurrence_map[it])\n",
    "        pdgID_vec.append(it)\n",
    "    \n",
    "    cl3d_iTau_map[i_cl3d]  = iTau_majority_idx\n",
    "    cl3d_pdgID_map[i_cl3d] = pdgID_vec\n",
    "    cl3d_pdgID_occurrence_map[i_cl3d] = pdgID_occurrence_vec\n",
    "    \n",
    "    if float(iTau_max_occurrence)/float(total_tcs_in_cl) < 0.75:\n",
    "        print(\"** WARNING: setting 3D cluster - generator tau match with ONLY\", float(iTau_max_occurrence)/float(total_tcs_in_cl)*100, \"% MAJORITY\")"
   ]
  },
  {
   "cell_type": "code",
   "execution_count": null,
   "metadata": {},
   "outputs": [],
   "source": [
    "old2new_tau_idx_map = {}\n",
    "new_tau_idx = 0\n",
    "for i_gentau in range(tree.gentau_pt.size()):\n",
    "    if (abs(tree.gentau_eta[i_gentau]) <= 1.5) or (abs(tree.gentau_eta[i_gentau]) >= 3.0): continue;\n",
    "    ishadronic = ( tree.gentau_decayMode[i_gentau] == 0 or tree.gentau_decayMode[i_gentau] == 1 or tree.gentau_decayMode[i_gentau] == 10 or tree.gentau_decayMode[i_gentau] == 11 )\n",
    "    if not ishadronic: continue;\n",
    "    \n",
    "    old2new_tau_idx_map[i_gentau] = new_tau_idx;\n",
    "    new_tau_idx += 1;"
   ]
  },
  {
   "cell_type": "code",
   "execution_count": null,
   "metadata": {},
   "outputs": [],
   "source": [
    "old2new_tau_idx_map"
   ]
  },
  {
   "cell_type": "code",
   "execution_count": null,
   "metadata": {},
   "outputs": [],
   "source": [
    "cl3d_iTau_map"
   ]
  },
  {
   "cell_type": "code",
   "execution_count": null,
   "metadata": {},
   "outputs": [],
   "source": [
    "cl3d_pdgID_map"
   ]
  },
  {
   "cell_type": "code",
   "execution_count": null,
   "metadata": {},
   "outputs": [],
   "source": [
    "cl3d_pdgID_occurrence_map"
   ]
  },
  {
   "cell_type": "markdown",
   "metadata": {},
   "source": [
    "# CLUSTER - GENTAU OUTPUT INSPECTION"
   ]
  },
  {
   "cell_type": "code",
   "execution_count": null,
   "metadata": {},
   "outputs": [],
   "source": [
    "indir = '/data_cms_upgrade/motta/HGCAL_SKIMS/SKIM_28Apr2021'\n",
    "rfile = ROOT.TFile.Open(indir+'/SKIM_RelValTenTau_noPU_caloTruth/mergedOutput.root')\n",
    "tree = rfile.Get('HGCALskimmedTree')\n",
    "\n",
    "TAU = True\n",
    "QCD = False\n",
    "\n",
    "print(tree.GetEntries())"
   ]
  },
  {
   "cell_type": "code",
   "execution_count": null,
   "metadata": {},
   "outputs": [],
   "source": [
    "c1 = ROOT.TCanvas(\"c1\",\"c1\",1000,1000)\n",
    "tree.Draw(\"cl3d_hoe>>h1(100,0,3)\")\n",
    "c1.Draw()"
   ]
  },
  {
   "cell_type": "code",
   "execution_count": null,
   "metadata": {},
   "outputs": [],
   "source": []
  },
  {
   "cell_type": "code",
   "execution_count": null,
   "metadata": {},
   "outputs": [],
   "source": []
  },
  {
   "cell_type": "code",
   "execution_count": null,
   "metadata": {},
   "outputs": [],
   "source": [
    "evt = 7312\n",
    "for i in range(tree.GetEntries()):\n",
    "    tree.GetEntry(i)\n",
    "    if tree.event == evt:\n",
    "        print(\"entry\", i, \"event\", evt)\n",
    "        break"
   ]
  },
  {
   "cell_type": "code",
   "execution_count": null,
   "metadata": {},
   "outputs": [],
   "source": [
    "entry = 2 # this is the entry number [0,nEntries] NOT the event number\n",
    "tree.GetEntry(entry)\n",
    "tree.event"
   ]
  },
  {
   "cell_type": "code",
   "execution_count": null,
   "metadata": {},
   "outputs": [],
   "source": [
    "for i in range(tree.cl3d_n):\n",
    "    print(\"cl\", i, \"iTau\", tree.cl3d_iTau[i])"
   ]
  },
  {
   "cell_type": "code",
   "execution_count": null,
   "metadata": {},
   "outputs": [],
   "source": [
    "i = 0\n",
    "for evt in range(tree.GetEntries()):\n",
    "    tree.GetEntry(evt)\n",
    "    if tree.cl3d_pt.size() < tree.gentau_pt.size():\n",
    "        i += 1\n",
    "        print(\"event\", tree.event)\n",
    "        \n",
    "print(i)"
   ]
  },
  {
   "cell_type": "code",
   "execution_count": null,
   "metadata": {},
   "outputs": [],
   "source": [
    "tree.GetEntry(0)\n",
    "tree.event"
   ]
  },
  {
   "cell_type": "code",
   "execution_count": null,
   "metadata": {},
   "outputs": [],
   "source": [
    "def deltaR(eta1, eta2, phi1, phi2):\n",
    "    return np.sqrt((eta1-eta2)**2+(phi1-phi2)**2)\n",
    "    \n",
    "for i in range(tree.gentau_n):\n",
    "    for j in range(i,tree.gentau_n):\n",
    "        R = deltaR(tree.gentau_eta[i],tree.gentau_eta[j],tree.gentau_phi[i],tree.gentau_phi[j])\n",
    "        \n",
    "        print(i, \"-\", j, \" = \", R)"
   ]
  },
  {
   "cell_type": "code",
   "execution_count": null,
   "metadata": {},
   "outputs": [],
   "source": [
    "tree.cl3d_n"
   ]
  },
  {
   "cell_type": "code",
   "execution_count": null,
   "metadata": {},
   "outputs": [],
   "source": [
    "tree.gentau_n"
   ]
  },
  {
   "cell_type": "markdown",
   "metadata": {},
   "source": [
    "# CLUSTER - GENTAU C++ IMPLEMENTATION"
   ]
  },
  {
   "cell_type": "code",
   "execution_count": null,
   "metadata": {},
   "outputs": [],
   "source": [
    "indir = '~/HGCAL/CMSSW_11_1_0/src/GRAPHAnalysis/bigTrees_examples'\n",
    "rfile = ROOT.TFile.Open(indir+'/bigTree_Tau_noPu_calotruth/ntuple_1.root')\n",
    "tree = rfile.Get('hgcalTriggerNtuplizer/HGCalTriggerNtuple')\n",
    "\n",
    "TAU = True\n",
    "QCD = False\n",
    "\n",
    "print(tree.GetEntries())"
   ]
  },
  {
   "cell_type": "code",
   "execution_count": null,
   "metadata": {},
   "outputs": [],
   "source": [
    "entry = 8\n",
    "tree.GetEntry(entry)"
   ]
  },
  {
   "cell_type": "code",
   "execution_count": null,
   "metadata": {},
   "outputs": [],
   "source": [
    "tree.event"
   ]
  },
  {
   "cell_type": "code",
   "execution_count": null,
   "metadata": {},
   "outputs": [],
   "source": [
    "len(tree.cl3d_eta)"
   ]
  },
  {
   "cell_type": "code",
   "execution_count": null,
   "metadata": {},
   "outputs": [],
   "source": [
    "n_gentaus = tree.gentau_pt.size()\n",
    "\n",
    "old2new_tau_idx_map = {}\n",
    "cl3d_iTau_map = {}\n",
    "TC_iTau_map = {}\n",
    "\n",
    "genIdx_iTau_map = {}\n",
    "iTau = -1\n",
    "doubleG = False\n",
    "i_pi_last = n_gentaus\n",
    "i_k_last = n_gentaus\n",
    "\n",
    "for i_gen in range(n_gentaus,len(tree.gen_pdgid)):\n",
    "    if abs(tree.gen_pdgid[i_gen]) == 16:\n",
    "        iTau+=1\n",
    "        genIdx_iTau_map[i_gen] = iTau\n",
    "    elif tree.gen_pdgid[i_gen] == 22:\n",
    "        if doubleG: doubleG = False; continue\n",
    "        for i_pi in range(i_pi_last,i_gen):\n",
    "            if abs(tree.gen_pdgid[i_pi]) == 111:\n",
    "                genIdx_iTau_map[i_gen]   = genIdx_iTau_map[i_pi]\n",
    "                genIdx_iTau_map[i_gen+1] = genIdx_iTau_map[i_pi]\n",
    "                i_pi_last = i_pi + 1\n",
    "                doubleG = True\n",
    "                break\n",
    "    elif abs(tree.gen_pdgid[i_gen]) == 130 or abs(tree.gen_pdgid[i_gen]) == 310:\n",
    "        for i_k in range(i_k_last,i_gen):\n",
    "            if abs(tree.gen_pdgid[i_k]) == 311:\n",
    "                genIdx_iTau_map[i_gen] = genIdx_iTau_map[i_k]\n",
    "                i_k_last = i_k+1\n",
    "                break\n",
    "        genIdx_iTau_map[i_gen] = iTau;\n",
    "    else:\n",
    "        genIdx_iTau_map[i_gen] = iTau"
   ]
  },
  {
   "cell_type": "code",
   "execution_count": null,
   "metadata": {},
   "outputs": [],
   "source": [
    "TC_pdgID_map = {}\n",
    "for i_tc in range(tree.tc_n):\n",
    "    if tree.tc_genparticle_index[i_tc] < 0: continue\n",
    "    TC_iTau_map[i_tc] =  genIdx_iTau_map[tree.tc_genparticle_index[i_tc]]\n",
    "    TC_pdgID_map[i_tc] =  tree.gen_pdgid[tree.tc_genparticle_index[i_tc]]"
   ]
  },
  {
   "cell_type": "code",
   "execution_count": null,
   "metadata": {},
   "outputs": [],
   "source": [
    "cl3d_pdgID_map = {}\n",
    "cl3d_pdgID_occurrence_map = {}\n",
    "\n",
    "for i_cl3d in range(tree.cl3d_id.size()):\n",
    "    iTau_occurrence_map = {0: 0, 1: 0, 2: 0, 3: 0, 4: 0, 5: 0, 6: 0, 7: 0, 8: 0, 9: 0}\n",
    "    pdgID_occurrence_map = {211: 0, 111: 0, 130: 0, -130:0, 22: 0, -211:0, 11: 0, -11:0, 13: 0, -13: 0}\n",
    "    iTau_max_occurrence = 0\n",
    "    iTau_majority_idx = -1\n",
    "    pdgID_vec = []\n",
    "    pdgID_occurrence_vec = []\n",
    "    total_tcs_in_cl = 0\n",
    "    \n",
    "    for i_tc in range(tree.tc_multicluster_id.size()):\n",
    "        if tree.tc_multicluster_id[i_tc] != tree.cl3d_id[i_cl3d]: continue\n",
    "        \n",
    "        iTau_occurrence_map[TC_iTau_map[i_tc]]   += 1\n",
    "        pdgID_occurrence_map[TC_pdgID_map[i_tc]] += 1\n",
    "\n",
    "        if iTau_occurrence_map[TC_iTau_map[i_tc]] > iTau_max_occurrence:\n",
    "            iTau_max_occurrence = iTau_occurrence_map[TC_iTau_map[i_tc]]\n",
    "            iTau_majority_idx = TC_iTau_map[i_tc]\n",
    "    \n",
    "        total_tcs_in_cl += 1\n",
    "    \n",
    "    for it in pdgID_occurrence_map:\n",
    "        if float(pdgID_occurrence_map[it])/float(total_tcs_in_cl) < 0.05: continue\n",
    "        pdgID_occurrence_vec.append(pdgID_occurrence_map[it])\n",
    "        pdgID_vec.append(it)\n",
    "    \n",
    "    cl3d_iTau_map[i_cl3d]  = iTau_majority_idx\n",
    "    cl3d_pdgID_map[i_cl3d] = pdgID_vec\n",
    "    cl3d_pdgID_occurrence_map[i_cl3d] = pdgID_occurrence_vec\n",
    "    \n",
    "    if float(iTau_max_occurrence)/float(total_tcs_in_cl) < 0.75:\n",
    "        print(\"** WARNING: setting 3D cluster - generator tau match with ONLY\", float(iTau_max_occurrence)/float(total_tcs_in_cl)*100, \"% MAJORITY\")"
   ]
  },
  {
   "cell_type": "code",
   "execution_count": null,
   "metadata": {},
   "outputs": [],
   "source": [
    "new_tau_idx = 0\n",
    "for i_gentau in range(n_gentaus):\n",
    "    if (abs(tree.gentau_eta[i_gentau]) <= 1.5) or (abs(tree.gentau_eta[i_gentau]) >= 3.0): continue;\n",
    "    ishadronic = ( tree.gentau_decayMode[i_gentau] == 0 or tree.gentau_decayMode[i_gentau] == 1 or tree.gentau_decayMode[i_gentau] == 10 or tree.gentau_decayMode[i_gentau] == 11 )\n",
    "    if not ishadronic: continue;\n",
    "    \n",
    "    old2new_tau_idx_map[i_gentau] = new_tau_idx;\n",
    "    new_tau_idx += 1;"
   ]
  },
  {
   "cell_type": "code",
   "execution_count": null,
   "metadata": {},
   "outputs": [],
   "source": [
    "for it in old2new_tau_idx_map:\n",
    "    print(\"old idx\", it, \"new idx\", old2new_tau_idx_map[it])"
   ]
  },
  {
   "cell_type": "code",
   "execution_count": null,
   "metadata": {},
   "outputs": [],
   "source": [
    "for it in cl3d_iTau_map:\n",
    "    print(\"cl\", it, \"iTau\", cl3d_iTau_map[it])"
   ]
  },
  {
   "cell_type": "code",
   "execution_count": null,
   "metadata": {},
   "outputs": [],
   "source": []
  },
  {
   "cell_type": "code",
   "execution_count": null,
   "metadata": {},
   "outputs": [],
   "source": [
    "if True: print(\"1\")\n",
    "elif False: print(\"2\")\n",
    "else: print(\"3\")"
   ]
  },
  {
   "cell_type": "code",
   "execution_count": null,
   "metadata": {},
   "outputs": [],
   "source": []
  },
  {
   "cell_type": "code",
   "execution_count": null,
   "metadata": {},
   "outputs": [],
   "source": []
  }
 ],
 "metadata": {
  "kernelspec": {
   "display_name": "Python 3",
   "language": "python",
   "name": "python3"
  },
  "language_info": {
   "codemirror_mode": {
    "name": "ipython",
    "version": 3
   },
   "file_extension": ".py",
   "mimetype": "text/x-python",
   "name": "python",
   "nbconvert_exporter": "python",
   "pygments_lexer": "ipython3",
   "version": "3.7.0"
  }
 },
 "nbformat": 4,
 "nbformat_minor": 2
}
