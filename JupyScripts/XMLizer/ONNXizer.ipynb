{
 "cells": [
  {
   "cell_type": "markdown",
   "metadata": {},
   "source": [
    "# Trasform Sklearn/XGBoot models to ONNX models"
   ]
  },
  {
   "cell_type": "markdown",
   "metadata": {},
   "source": [
    "### Trasform C2 SKL model"
   ]
  },
  {
   "cell_type": "code",
   "execution_count": 1,
   "metadata": {},
   "outputs": [],
   "source": [
    "from skl2onnx import convert_sklearn\n",
    "from skl2onnx.common.data_types import FloatTensorType\n",
    "\n",
    "import onnxruntime as rt\n",
    "\n",
    "import numpy\n",
    "\n",
    "import pickle\n",
    "\n",
    "def save_obj(obj,dest):\n",
    "    with open(dest,'wb') as f:\n",
    "        pickle.dump(obj, f, pickle.HIGHEST_PROTOCOL)\n",
    "\n",
    "def load_obj(source):\n",
    "    with open(source,'rb') as f:\n",
    "        return pickle.load(f)"
   ]
  },
  {
   "cell_type": "code",
   "execution_count": 11,
   "metadata": {},
   "outputs": [],
   "source": [
    "C2model_skl = load_obj('/home/llr/cms/motta/HGCAL/CMSSW_11_1_0/src/GRAPHAnalysis/L1BDT/pklModels/calibration_C1skimC2C3/model_c2_th_PU200.pkl')"
   ]
  },
  {
   "cell_type": "code",
   "execution_count": 2,
   "metadata": {},
   "outputs": [],
   "source": [
    "import pandas as pd\n",
    "\n",
    "cl3d_abseta = [2.8745, 2.88256, 2.86664, 2.89197, 2.72434, 2.73504, 2.75481, 2.68101, 2.66192, 2.63181, 2.64703, 2.62997, 2.65954, 2.6181, 2.5422, 2.56137, 2.54953, 2.57309, 2.50743, 2.5057, 2.52051, 2.52633, 2.4293, 2.42664, 2.4182, 2.39965, 2.35732, 2.34091, 2.3147, 2.31275, 2.28152, 2.24629, 2.2117, 2.12399, 2.05333, 1.8717, 1.82165, 1.6596, 2.88612, 2.88321, 2.75897, 2.71611, 2.70154, 2.6351, 2.64355, 2.67783, 2.66998, 2.58127, 2.55352, 2.59189, 2.56282, 2.51148, 2.52532, 2.3997, 2.4195, 2.43531, 2.40516, 2.3719, 2.30698, 2.30281, 2.30739, 2.30509, 2.29121, 2.14166, 2.06986, 2.0375, 1.9779, 1.85, 1.76858, 1.61684]\n",
    "cl3d_coreshowerlength = [15, 10, 10, 13, 9, 14, 6, 13, 7, 9, 9, 7, 10, 6, 5, 9, 9, 7, 8, 8, 6, 9, 8, 8, 9, 9, 6, 4, 8, 8, 7, 8, 6, 2, 3, 9, 2, 3, 5, 10, 9, 9, 9, 10, 14, 8, 6, 13, 11, 9, 9, 13, 11, 4, 3, 12, 10, 12, 2, 5, 9, 7, 8, 7, 8, 3, 2, 1, 3, 2]\n",
    "cl3d_meanz = [353.433, 352.166, 351.025, 338.287, 336.707, 342.583, 345.876, 338.568, 364.488, 342.452, 340.689, 344.031, 344.735, 345.175, 351.872, 342.418, 335.01, 338.58, 337.631, 350.078, 337.768, 337.283, 339.598, 350.685, 342.497, 353.366, 336.253, 337.511, 332.004, 333.614, 339.715, 339.783, 330.752, 383.223, 341.934, 332.152, 347.329, 371.682, 344.674, 332.14, 402.36, 337.351, 373.887, 347.432, 352.756, 333.718, 342.755, 342.173, 336.226, 369.574, 336.392, 352.538, 333.815, 343.102, 347.92, 354.024, 345.011, 341.24, 362.57, 351.978, 337.245, 364.898, 390.632, 351.11, 333.213, 338.638, 354.095, 340.207, 330.957, 378.024]\n",
    "cl3d_showerlength = [36, 39, 40, 35, 34, 33, 37, 42, 42, 29, 30, 36, 42, 30, 35, 38, 29, 35, 31, 40, 29, 32, 32, 37, 39, 30, 33, 32, 21, 27, 29, 31, 25, 31, 19, 17, 15, 28, 33, 27, 47, 33, 37, 46, 41, 33, 31, 35, 30, 50, 29, 35, 27, 28, 25, 37, 30, 29, 34, 41, 21, 40, 46, 32, 25, 29, 31, 5, 9, 25]\n",
    "cl3d_spptot = [0.0507148, 0.0560651, 0.0335778, 0.0615488, 0.0571281, 0.0423954, 0.0526622, 0.0513792, 0.044169, 0.046669, 0.0485373, 0.0439432, 0.0418449, 0.0412898, 0.0447453, 0.0419937, 0.0334273, 0.0420075, 0.0428482, 0.0328301, 0.0358253, 0.0350243, 0.0391379, 0.0292497, 0.0521896, 0.0234807, 0.0196477, 0.0367944, 0.0248518, 0.0279796, 0.0225257, 0.030757, 0.0198919, 0.0109972, 0.0120821, 0.0215738, 0.00401706, 0.00320102, 0.0669115, 0.0629402, 0.0328888, 0.0417385, 0.0324387, 0.0383691, 0.0463479, 0.0583387, 0.0447267, 0.0403691, 0.0426642, 0.0453902, 0.0345599, 0.047415, 0.0471672, 0.0324563, 0.0302662, 0.027225, 0.0284459, 0.0385829, 0.0303255, 0.0232581, 0.024943, 0.0342036, 0.0425497, 0.0175971, 0.0250334, 0.0226588, 0.0166786, 0.00840113, 0.00449695, 0.00657583]\n",
    "cl3d_srrmean = [0.00345892, 0.00411237, 0.00350957, 0.00409898, 0.00382347, 0.00295203, 0.0044008, 0.00364478, 0.00330204, 0.0034307, 0.00222936, 0.00393587, 0.00484258, 0.00354911, 0.00279548, 0.00377017, 0.00422407, 0.00418136, 0.00445737, 0.00408817, 0.00384533, 0.00374325, 0.00380875, 0.00351983, 0.00295819, 0.00298812, 0.00216117, 0.00311949, 0.00274665, 0.00417613, 0.00337179, 0.0040137, 0.00297939, 0.000631064, 0.000904475, 0.00370579, 0.00116965, 0.000182741, 0.00290323, 0.00494255, 0.00293023, 0.00473473, 0.00185686, 0.00415876, 0.00302697, 0.00469527, 0.00210816, 0.00384406, 0.0038524, 0.00400991, 0.00269227, 0.00311919, 0.00409912, 0.00414462, 0.00264463, 0.00338798, 0.00306862, 0.00384011, 0.000930512, 0.00259441, 0.00275698, 0.00408488, 0.000707584, 0.00240011, 0.00259081, 0.000947295, 0.0022118, 0, 0.00244491, 0.00103596]\n",
    "\n",
    "df = pd.DataFrame()\n",
    "\n",
    "df['cl3d_abseta'] = cl3d_abseta\n",
    "df['cl3d_coreshowerlength'] = cl3d_coreshowerlength\n",
    "df['cl3d_meanz'] = cl3d_meanz\n",
    "df['cl3d_showerlength'] = cl3d_showerlength\n",
    "df['cl3d_spptot'] = cl3d_spptot\n",
    "df['cl3d_srrmean'] = cl3d_srrmean"
   ]
  },
  {
   "cell_type": "code",
   "execution_count": 3,
   "metadata": {},
   "outputs": [],
   "source": [
    "testing_row = 2"
   ]
  },
  {
   "cell_type": "code",
   "execution_count": 4,
   "metadata": {},
   "outputs": [],
   "source": [
    "test = numpy.array(df)"
   ]
  },
  {
   "cell_type": "code",
   "execution_count": null,
   "metadata": {},
   "outputs": [],
   "source": [
    "initial_type = [('float_input', FloatTensorType([1, 6]))]"
   ]
  },
  {
   "cell_type": "code",
   "execution_count": null,
   "metadata": {},
   "outputs": [],
   "source": [
    "onx = convert_sklearn(C2model_skl, initial_types=initial_type)\n",
    "with open(\"/home/llr/cms/motta/HGCAL/CMSSW_11_1_7/src/L1Trigger/L1CaloTrigger/xmls_tmp/C2model_nonRscld.onnx\", \"wb\") as f:\n",
    "    f.write(onx.SerializeToString())"
   ]
  },
  {
   "cell_type": "code",
   "execution_count": 5,
   "metadata": {},
   "outputs": [],
   "source": [
    "sess = rt.InferenceSession(\"/home/llr/cms/motta/HGCAL/CMSSW_11_1_7/src/L1Trigger/L1CaloTrigger/xmls_tmp/C2model_nonRscld.onnx\")\n",
    "input_name = sess.get_inputs()[0].name\n",
    "label_name = sess.get_outputs()[0].name\n",
    "pred_onx = sess.run([label_name], {input_name: test.astype(numpy.float32)[testing_row].reshape(1,-1)})[0]"
   ]
  },
  {
   "cell_type": "code",
   "execution_count": 6,
   "metadata": {},
   "outputs": [],
   "source": [
    "result = pd.DataFrame(columns=[\"onxx\", 'skl'])"
   ]
  },
  {
   "cell_type": "code",
   "execution_count": 12,
   "metadata": {},
   "outputs": [],
   "source": [
    "result[\"onxx\"] = pred_onx.flatten()\n",
    "result[\"skl\"] = C2model_skl.predict(df)[testing_row]\n",
    "result[\"diff\"] = result[\"onxx\"]-result[\"skl\"]"
   ]
  },
  {
   "cell_type": "code",
   "execution_count": 13,
   "metadata": {
    "scrolled": true
   },
   "outputs": [
    {
     "data": {
      "text/html": [
       "<div>\n",
       "<style scoped>\n",
       "    .dataframe tbody tr th:only-of-type {\n",
       "        vertical-align: middle;\n",
       "    }\n",
       "\n",
       "    .dataframe tbody tr th {\n",
       "        vertical-align: top;\n",
       "    }\n",
       "\n",
       "    .dataframe thead th {\n",
       "        text-align: right;\n",
       "    }\n",
       "</style>\n",
       "<table border=\"1\" class=\"dataframe\">\n",
       "  <thead>\n",
       "    <tr style=\"text-align: right;\">\n",
       "      <th></th>\n",
       "      <th>onxx</th>\n",
       "      <th>skl</th>\n",
       "      <th>diff</th>\n",
       "    </tr>\n",
       "  </thead>\n",
       "  <tbody>\n",
       "    <tr>\n",
       "      <th>0</th>\n",
       "      <td>1.150672</td>\n",
       "      <td>1.150672</td>\n",
       "      <td>4.753171e-08</td>\n",
       "    </tr>\n",
       "  </tbody>\n",
       "</table>\n",
       "</div>"
      ],
      "text/plain": [
       "       onxx       skl          diff\n",
       "0  1.150672  1.150672  4.753171e-08"
      ]
     },
     "execution_count": 13,
     "metadata": {},
     "output_type": "execute_result"
    }
   ],
   "source": [
    "result"
   ]
  },
  {
   "cell_type": "code",
   "execution_count": null,
   "metadata": {},
   "outputs": [],
   "source": []
  },
  {
   "cell_type": "markdown",
   "metadata": {},
   "source": [
    "### Trasform C2 XGB model"
   ]
  },
  {
   "cell_type": "code",
   "execution_count": null,
   "metadata": {},
   "outputs": [],
   "source": [
    "from sklearn.pipeline import Pipeline\n",
    "\n",
    "import onnxmltools\n",
    "from skl2onnx import to_onnx\n",
    "from skl2onnx import update_registered_converter\n",
    "from onnxmltools.convert.xgboost.operator_converters.XGBoost import convert_xgboost\n",
    "from skl2onnx.common.shape_calculator import calculate_linear_regressor_output_shapes"
   ]
  },
  {
   "cell_type": "code",
   "execution_count": null,
   "metadata": {},
   "outputs": [],
   "source": [
    "C2model_xgb = load_obj('model_c2_th_PU200_xgb.pkl')"
   ]
  },
  {
   "cell_type": "code",
   "execution_count": null,
   "metadata": {},
   "outputs": [],
   "source": [
    "pipe = Pipeline([('xgb', C2model_xgb)])"
   ]
  },
  {
   "cell_type": "code",
   "execution_count": null,
   "metadata": {},
   "outputs": [],
   "source": [
    "update_registered_converter(\n",
    "    C2model_xgb, 'XGBoostXGBRegressor',\n",
    "    calculate_linear_regressor_output_shapes, convert_xgboost)"
   ]
  },
  {
   "cell_type": "code",
   "execution_count": null,
   "metadata": {
    "scrolled": true
   },
   "outputs": [],
   "source": [
    "onx = to_onnx(pipe, test.astype(numpy.float32)[testing_row].reshape(1,-1))"
   ]
  },
  {
   "cell_type": "code",
   "execution_count": null,
   "metadata": {},
   "outputs": [],
   "source": [
    "sess = rt.InferenceSession(onx.SerializeToString())\n",
    "pred_onx = sess.run(None, {input_name: test.astype(numpy.float32)[testing_row].reshape(1,-1)})"
   ]
  },
  {
   "cell_type": "code",
   "execution_count": null,
   "metadata": {},
   "outputs": [],
   "source": []
  },
  {
   "cell_type": "markdown",
   "metadata": {},
   "source": [
    "### Trasnform PU XGB model"
   ]
  },
  {
   "cell_type": "code",
   "execution_count": 14,
   "metadata": {},
   "outputs": [],
   "source": [
    "from sklearn.pipeline import Pipeline\n",
    "\n",
    "import onnxmltools\n",
    "from skl2onnx import to_onnx\n",
    "from skl2onnx import update_registered_converter\n",
    "from onnxmltools.convert.xgboost.operator_converters.XGBoost import convert_xgboost\n",
    "from skl2onnx.common.shape_calculator import calculate_linear_regressor_output_shapes\n",
    "\n",
    "from skl2onnx.common.shape_calculator import calculate_linear_classifier_output_shapes\n",
    "import onnxmltools\n",
    "from xgboost import XGBClassifier"
   ]
  },
  {
   "cell_type": "code",
   "execution_count": 15,
   "metadata": {},
   "outputs": [],
   "source": [
    "PUmodel = load_obj(\"/home/llr/cms/motta/HGCAL/CMSSW_11_1_0/src/GRAPHAnalysis/L1BDT/pklModels/PUrejection_skimPUnoPt_class/model_PUrejection_th_PU200.pkl\")"
   ]
  },
  {
   "cell_type": "code",
   "execution_count": 16,
   "metadata": {},
   "outputs": [],
   "source": [
    "import pandas as pd\n",
    "\n",
    "cl3d_coreshowerlength = [15, 10, 10, 13, 9, 14, 6, 13, 7, 9, 9, 7, 10, 6, 5, 9, 9, 7, 8, 8, 6, 9, 8, 8, 9, 9, 6, 4, 8, 8, 7, 8, 6, 2, 3, 9, 2, 3, 5, 10, 9, 9, 9, 10, 14, 8, 6, 13, 11, 9, 9, 13, 11, 4, 3, 12, 10, 12, 2, 5, 9, 7, 8, 7, 8, 3, 2, 1, 3, 2]\n",
    "cl3d_srrmean = [0.00345892, 0.00411237, 0.00350957, 0.00409898, 0.00382347, 0.00295203, 0.0044008, 0.00364478, 0.00330204, 0.0034307, 0.00222936, 0.00393587, 0.00484258, 0.00354911, 0.00279548, 0.00377017, 0.00422407, 0.00418136, 0.00445737, 0.00408817, 0.00384533, 0.00374325, 0.00380875, 0.00351983, 0.00295819, 0.00298812, 0.00216117, 0.00311949, 0.00274665, 0.00417613, 0.00337179, 0.0040137, 0.00297939, 0.000631064, 0.000904475, 0.00370579, 0.00116965, 0.000182741, 0.00290323, 0.00494255, 0.00293023, 0.00473473, 0.00185686, 0.00415876, 0.00302697, 0.00469527, 0.00210816, 0.00384406, 0.0038524, 0.00400991, 0.00269227, 0.00311919, 0.00409912, 0.00414462, 0.00264463, 0.00338798, 0.00306862, 0.00384011, 0.000930512, 0.00259441, 0.00275698, 0.00408488, 0.000707584, 0.00240011, 0.00259081, 0.000947295, 0.0022118, 0, 0.00244491, 0.00103596]\n",
    "cl3d_meanz = [353.433, 352.166, 351.025, 338.287, 336.707, 342.583, 345.876, 338.568, 364.488, 342.452, 340.689, 344.031, 344.735, 345.175, 351.872, 342.418, 335.01, 338.58, 337.631, 350.078, 337.768, 337.283, 339.598, 350.685, 342.497, 353.366, 336.253, 337.511, 332.004, 333.614, 339.715, 339.783, 330.752, 383.223, 341.934, 332.152, 347.329, 371.682, 344.674, 332.14, 402.36, 337.351, 373.887, 347.432, 352.756, 333.718, 342.755, 342.173, 336.226, 369.574, 336.392, 352.538, 333.815, 343.102, 347.92, 354.024, 345.011, 341.24, 362.57, 351.978, 337.245, 364.898, 390.632, 351.11, 333.213, 338.638, 354.095, 340.207, 330.957, 378.024]\n",
    "cl3d_c3 = [2.04999764, 1.48677585, 1.71112824, 1.74881563, 1.2311086 , 1.11582118, 1.13954788, 1.21624592, 1.03184664, 1.35796908, 1.31122628, 1.27566809, 1.28832607, 1.20444727, 1.23309654, 1.39089471, 1.08270905, 1.1794054 , 1.17658761, 1.18194946, 1.13912456, 1.09695714, 1.12593048, 1.22496485, 1.24793061, 1.06402776, 1.08503548, 1.08489138, 1.16057912, 1.04423075, 1.1279395 , 1.11093266, 1.04002995, 1.0188321 , 1.04086866, 1.03158518, 1.00481335, 0.98094975, 1.62526872, 1.51186296, 1.02073282, 1.10959753, 1.04273077, 1.39616002, 1.49402997, 1.12015344, 1.44982637, 1.46104104, 1.26701499, 1.13785136, 1.06698667, 1.28312693, 1.37794487, 1.20896359, 1.1888217 , 1.29271319, 1.24408482, 1.15256683, 1.06494307, 1.14825486, 1.1029782 , 1.04388765, 1.08029244, 1.08728698, 1.0297083 , 1.04759338, 1.02901678, 1.02160028, 1.01112386, 0.97528246]\n",
    "cl3d_hoe = [0.255575, 0.612912, 0.474638, 0.24627, 0.307104, 0.381671, 0.350237, 0.177648, 2.52743, 0.294224, 0.880569, 0.360871, 0.239768, 0.45323, 0.542486, 0.17811, 0.978522, 0.13134, 0.334098, 0.457082, 0.403443, 0.595039, 0.881264, 0.37309, 0.0769846, 1.30489, 0.474252, 0.485666, 0.0649158, 0, 0.214818, 0.222414, 0.499836, 5.20363, 0.0170355, 0.0430874, 0, 20.3416, 1.20553, 0.0364802, 1.39765, 0.492395, 2.42748, 0.421697, 0.384799, 0.547126, 0.10849, 0.212652, 0.567526, 0.787704, 0.319949, 0.848676, 0.2609, 1.45461, 0.541629, 0.592227, 0.323533, 0.651254, 1.97474, 0.631804, 0.297832, 0.991376, 0.818145, 0.393728, 0.946651, 0.127358, 0.301766, 0.197483, 0.0259555, 25.4884]\n",
    "cl3d_srrtot = [0.00626188, 0.00834906, 0.00812192, 0.0060249, 0.00576349, 0.00770988, 0.00665723, 0.00580734, 0.00505007, 0.00496011, 0.00616187, 0.0054452, 0.00756864, 0.00529501, 0.00602463, 0.00704566, 0.0047125, 0.00593585, 0.00626543, 0.00636273, 0.00513074, 0.00429852, 0.00659368, 0.00579675, 0.00519371, 0.00416406, 0.00445264, 0.00627716, 0.00566351, 0.00481013, 0.0051661, 0.00572606, 0.00402591, 0.00204462, 0.00218529, 0.00519117, 0.00344127, 0.00192776, 0.00726904, 0.00609092, 0.00817967, 0.00760018, 0.00440027, 0.00666153, 0.00549109, 0.00575024, 0.00786155, 0.00509576, 0.00730374, 0.00806112, 0.00450399, 0.00606282, 0.005996, 0.00550469, 0.00442642, 0.00632428, 0.00410522, 0.00767106, 0.00436574, 0.0043084, 0.00420104, 0.00678688, 0.0073347, 0.00493943, 0.0047147, 0.00341285, 0.00426048, 0.000551694, 0.00339521, 0.00148211]\n",
    "\n",
    "df = pd.DataFrame()\n",
    "\n",
    "df['f1'] = cl3d_c3\n",
    "df['f2'] = cl3d_coreshowerlength\n",
    "df['f3'] = cl3d_srrtot\n",
    "df['f4'] = cl3d_srrmean\n",
    "df['f5'] = cl3d_hoe\n",
    "df['f6'] = cl3d_meanz"
   ]
  },
  {
   "cell_type": "code",
   "execution_count": 17,
   "metadata": {},
   "outputs": [],
   "source": [
    "test = numpy.array(df)"
   ]
  },
  {
   "cell_type": "code",
   "execution_count": null,
   "metadata": {},
   "outputs": [],
   "source": [
    "pipe = Pipeline([('xgb', PUmodel)])"
   ]
  },
  {
   "cell_type": "code",
   "execution_count": null,
   "metadata": {},
   "outputs": [],
   "source": [
    "update_registered_converter(\n",
    "    XGBClassifier, 'XGBoostXGBClassifier',\n",
    "    calculate_linear_classifier_output_shapes, convert_xgboost,\n",
    "    options={'nocl': [True, False], 'zipmap': [True, False, 'columns']})"
   ]
  },
  {
   "cell_type": "code",
   "execution_count": null,
   "metadata": {},
   "outputs": [],
   "source": [
    "model_onnx = convert_sklearn(\n",
    "    pipe, 'pipeline_xgboost',\n",
    "    [('input', FloatTensorType([1, 6]))],\n",
    "    target_opset=12)\n",
    "\n",
    "with open(\"/home/llr/cms/motta/HGCAL/CMSSW_11_1_7/src/L1Trigger/L1CaloTrigger/xmls_tmp/PUmodel_nonRscld.onnx\", \"wb\") as f:\n",
    "    f.write(model_onnx.SerializeToString())"
   ]
  },
  {
   "cell_type": "code",
   "execution_count": 38,
   "metadata": {},
   "outputs": [],
   "source": [
    "testing_row = 0"
   ]
  },
  {
   "cell_type": "code",
   "execution_count": 39,
   "metadata": {},
   "outputs": [],
   "source": [
    "sess = rt.InferenceSession(\"/home/llr/cms/motta/HGCAL/CMSSW_11_1_7/src/L1Trigger/L1CaloTrigger/xmls_tmp/PUmodel_nonRscld.onnx\")\n",
    "pred_onx = sess.run(None, {'float_input': test.astype(numpy.float32)[testing_row].reshape(1,-1)})[1][0]"
   ]
  },
  {
   "cell_type": "code",
   "execution_count": 40,
   "metadata": {},
   "outputs": [],
   "source": [
    "results = pd.DataFrame(columns=[\"onnx\", 'xgb'])"
   ]
  },
  {
   "cell_type": "code",
   "execution_count": 41,
   "metadata": {},
   "outputs": [],
   "source": [
    "results[\"onnx\"] = [ pred_onx[1] ]\n",
    "results[\"xgb\"] = [ PUmodel.predict_proba(df)[testing_row][1] ]\n",
    "results[\"diff\"] = results[\"onnx\"]-results[\"xgb\"]"
   ]
  },
  {
   "cell_type": "code",
   "execution_count": 42,
   "metadata": {
    "scrolled": true
   },
   "outputs": [
    {
     "data": {
      "text/html": [
       "<div>\n",
       "<style scoped>\n",
       "    .dataframe tbody tr th:only-of-type {\n",
       "        vertical-align: middle;\n",
       "    }\n",
       "\n",
       "    .dataframe tbody tr th {\n",
       "        vertical-align: top;\n",
       "    }\n",
       "\n",
       "    .dataframe thead th {\n",
       "        text-align: right;\n",
       "    }\n",
       "</style>\n",
       "<table border=\"1\" class=\"dataframe\">\n",
       "  <thead>\n",
       "    <tr style=\"text-align: right;\">\n",
       "      <th></th>\n",
       "      <th>onnx</th>\n",
       "      <th>xgb</th>\n",
       "      <th>diff</th>\n",
       "    </tr>\n",
       "  </thead>\n",
       "  <tbody>\n",
       "    <tr>\n",
       "      <th>0</th>\n",
       "      <td>0.001063</td>\n",
       "      <td>0.001851</td>\n",
       "      <td>-0.000788</td>\n",
       "    </tr>\n",
       "  </tbody>\n",
       "</table>\n",
       "</div>"
      ],
      "text/plain": [
       "       onnx       xgb      diff\n",
       "0  0.001063  0.001851 -0.000788"
      ]
     },
     "execution_count": 42,
     "metadata": {},
     "output_type": "execute_result"
    }
   ],
   "source": [
    "results"
   ]
  },
  {
   "cell_type": "code",
   "execution_count": 44,
   "metadata": {},
   "outputs": [
    {
     "data": {
      "text/plain": [
       "[array([0], dtype=int64), array([[0.99893683, 0.00106317]], dtype=float32)]"
      ]
     },
     "execution_count": 44,
     "metadata": {},
     "output_type": "execute_result"
    }
   ],
   "source": [
    "sess.run(None, {'float_input': test.astype(numpy.float32)[testing_row].reshape(1,-1)})"
   ]
  },
  {
   "cell_type": "code",
   "execution_count": 48,
   "metadata": {},
   "outputs": [
    {
     "data": {
      "text/plain": [
       "array([0.99814886, 0.00185116], dtype=float32)"
      ]
     },
     "execution_count": 48,
     "metadata": {},
     "output_type": "execute_result"
    }
   ],
   "source": [
    "PUmodel.predict_proba(df)[testing_row]"
   ]
  },
  {
   "cell_type": "code",
   "execution_count": null,
   "metadata": {},
   "outputs": [],
   "source": []
  },
  {
   "cell_type": "code",
   "execution_count": null,
   "metadata": {},
   "outputs": [],
   "source": [
    "from pyquickhelper.helpgen.graphviz_helper import plot_graphviz\n",
    "from mlprodict.onnxrt import OnnxInference\n",
    "from matplotlib import pyplot as plt\n",
    "\n",
    "fig, ax = plt.subplots(1, 1, figsize=(10,20))\n",
    "plot_graphviz(oinf.to_dot(), ax=ax)\n",
    "ax.get_xaxis().set_visible(False)\n",
    "ax.get_yaxis().set_visible(False)\n",
    "plt.show()"
   ]
  },
  {
   "cell_type": "code",
   "execution_count": null,
   "metadata": {},
   "outputs": [],
   "source": []
  },
  {
   "cell_type": "code",
   "execution_count": null,
   "metadata": {},
   "outputs": [],
   "source": []
  },
  {
   "cell_type": "markdown",
   "metadata": {},
   "source": [
    "method from Claire and Chris"
   ]
  },
  {
   "cell_type": "code",
   "execution_count": null,
   "metadata": {},
   "outputs": [],
   "source": [
    "initial_type = [('float_input', FloatTensorType([1, 6]))]\n",
    "onx = onnxmltools.convert.convert_xgboost(PUmodel, initial_types=initial_type)\n",
    "with open(\"default_model.onnx\", \"wb\") as f:\n",
    "    f.write(onx.SerializeToString())"
   ]
  },
  {
   "cell_type": "code",
   "execution_count": null,
   "metadata": {},
   "outputs": [],
   "source": [
    "sess = rt.InferenceSession(\"default_model.onnx\")\n",
    "pred_onx = sess.run(None, {'float_input': test.astype(numpy.float32)[testing_row].reshape(1,-1)})[1][0]"
   ]
  },
  {
   "cell_type": "code",
   "execution_count": null,
   "metadata": {},
   "outputs": [],
   "source": [
    "result = pd.DataFrame(columns=[\"onxx\", 'xgb'])"
   ]
  },
  {
   "cell_type": "code",
   "execution_count": null,
   "metadata": {},
   "outputs": [],
   "source": [
    "result[\"onxx\"] = [ pred_onx[1] ]\n",
    "result[\"xgb\"] = [ PUmodel.predict_proba(df)[:,1][testing_row] ]\n",
    "result[\"diff\"] = result[\"onxx\"]-result[\"xgb\"]"
   ]
  },
  {
   "cell_type": "code",
   "execution_count": null,
   "metadata": {},
   "outputs": [],
   "source": [
    "result"
   ]
  },
  {
   "cell_type": "code",
   "execution_count": null,
   "metadata": {},
   "outputs": [],
   "source": []
  }
 ],
 "metadata": {
  "kernelspec": {
   "display_name": "Python 3",
   "language": "python",
   "name": "python3"
  },
  "language_info": {
   "codemirror_mode": {
    "name": "ipython",
    "version": 3
   },
   "file_extension": ".py",
   "mimetype": "text/x-python",
   "name": "python",
   "nbconvert_exporter": "python",
   "pygments_lexer": "ipython3",
   "version": "3.7.0"
  }
 },
 "nbformat": 4,
 "nbformat_minor": 2
}
