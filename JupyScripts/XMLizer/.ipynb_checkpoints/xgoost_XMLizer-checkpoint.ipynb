{
 "cells": [
  {
   "cell_type": "code",
   "execution_count": 64,
   "metadata": {},
   "outputs": [],
   "source": [
    "import re\n",
    "import xml.etree.ElementTree as ET\n",
    "regex_float_pattern = r'[-+]?(\\d+(\\.\\d*)?|\\.\\d+)([eE][-+]?\\d+)?'\n",
    "\n",
    "def build_tree(xgtree, xgtree_json, base_xml_element, var_indices):\n",
    "    parent_element_dict = {'0':base_xml_element}\n",
    "    pos_dict = {'0':'s'}\n",
    "    for line in xgtree.split('\\n'):\n",
    "        if not line: continue\n",
    "        if 'booster' in line: continue\n",
    "        if ':leaf=' in line:\n",
    "            #leaf node\n",
    "            result = re.match(r'(\\t*)(\\d+):leaf=({0})$'.format(regex_float_pattern), line)\n",
    "            if not result:\n",
    "                print(line)\n",
    "            depth = result.group(1).count('\\t')\n",
    "            inode = result.group(2)\n",
    "            res = result.group(3)\n",
    "            node_elementTree = ET.SubElement(parent_element_dict[inode], \"Node\", pos=str(pos_dict[inode]),\n",
    "                                             depth=str(depth), NCoef=\"0\", IVar=\"-1\", Cut=\"0.0e+00\", cType=\"1\", res=str(res), rms=\"0.0e+00\", purity=\"0.0e+00\", nType=\"-99\")\n",
    "        else:\n",
    "            #\\t\\t3:[var_topcand_mass<138.19] yes=7,no=8,missing=7\n",
    "            result = re.match(r'(\\t*)([0-9]+):\\[(?P<var>.+)<(?P<cut>{0})\\]\\syes=(?P<yes>\\d+),no=(?P<no>\\d+)'.format(regex_float_pattern),line)\n",
    "            if not result:\n",
    "                print(line)\n",
    "            depth = result.group(1).count('\\t')\n",
    "            inode = result.group(2)\n",
    "            var = result.group('var')\n",
    "            cut = result.group('cut')\n",
    "            lnode = result.group('yes')\n",
    "            rnode = result.group('no')\n",
    "            pos_dict[lnode] = 'l'\n",
    "            pos_dict[rnode] = 'r'\n",
    "            node_elementTree = ET.SubElement(parent_element_dict[inode], \"Node\", pos=str(pos_dict[inode]),\n",
    "                                             depth=str(depth), NCoef=\"0\", IVar=str(var_indices[var]), Cut=str(cut),\n",
    "                                             cType=\"1\", res=str(xgtree_json['base_weights'][int(inode)]), rms=\"0.0e+00\", purity=\"0.0e+00\", nType=\"0\")\n",
    "            parent_element_dict[lnode] = node_elementTree\n",
    "            parent_element_dict[rnode] = node_elementTree\n",
    "            \n",
    "def convert_model(model, model_json, input_variables, output_xml):\n",
    "    NTrees = 0\n",
    "    for i in model: NTrees+=1\n",
    "    var_list = input_variables\n",
    "    var_indices = {}\n",
    "    \n",
    "    # <MethodSetup>\n",
    "    MethodSetup = ET.Element(\"MethodSetup\", Method=\"BDT::BDT\")\n",
    "    \n",
    "    # <GeneralInfo>\n",
    "    GeneralInfo = ET.SubElement(MethodSetup, \"GeneralInfo\")\n",
    "    Info_Creator = ET.SubElement(GeneralInfo, \"Info\", name=\"Creator\", value=\"Jona Motta\")\n",
    "    Info_AnalysisType = ET.SubElement(GeneralInfo, \"Info\", name=\"AnalysisType\", value=\"Regression\")\n",
    "\n",
    "    # <Options>\n",
    "    Options = ET.SubElement(MethodSetup, \"Options\")\n",
    "    Option_NodePurityLimit = ET.SubElement(Options, \"Option\", name=\"NodePurityLimit\", modified=\"No\").text = \"5.00e-01\"\n",
    "    Option_BoostType = ET.SubElement(Options, \"Option\", name=\"BoostType\", modified=\"Yes\").text = \"Grad\"\n",
    "    \n",
    "    # <Variables>\n",
    "    Variables = ET.SubElement(MethodSetup, \"Variables\", NVar=str(len(var_list)))\n",
    "    for ind, val in enumerate(var_list):\n",
    "        name = val[0]\n",
    "        var_type = val[1]\n",
    "        var_indices[name] = ind\n",
    "        Variable = ET.SubElement(Variables, \"Variable\", VarIndex=str(ind), Type=val[1], \n",
    "            Expression=name, Label=name, Title=name, Unit=\"\", Internal=name, \n",
    "            Min=val[2]+\"e+00\", Max=val[3]+\"e+00\")\n",
    "\n",
    "    # <Weights>\n",
    "    Weights = ET.SubElement(MethodSetup, \"Weights\", NTrees=str(NTrees), AnalysisType=\"1\")\n",
    "    \n",
    "    for itree in range(NTrees):\n",
    "        BinaryTree = ET.SubElement(Weights, \"BinaryTree\", type=\"DecisionTree\", boostWeight=\"1.0e+00\", itree=str(itree))\n",
    "        build_tree(model[itree], model_json['learner']['gradient_booster']['model']['trees'][itree], BinaryTree, var_indices)\n",
    "        \n",
    "    tree = ET.ElementTree(MethodSetup)\n",
    "    tree.write(output_xml)\n",
    "    # format it with 'xmllint --format'\n",
    "    \n",
    "# example\n",
    "# bst = xgb.train( param, d_train, num_round, watchlist );\n",
    "# model = bst.get_dump()\n",
    "# convert_model(model,input_variables=[('var1','F'),('var2','I')],output_xml='xgboost.xml')"
   ]
  },
  {
   "cell_type": "code",
   "execution_count": 65,
   "metadata": {},
   "outputs": [],
   "source": [
    "import pickle\n",
    "import json\n",
    "\n",
    "def save_obj(obj,dest):\n",
    "    with open(dest,'wb') as f:\n",
    "        pickle.dump(obj, f, pickle.HIGHEST_PROTOCOL)\n",
    "\n",
    "def load_obj(source):\n",
    "    with open(source,'rb') as f:\n",
    "        return pickle.load(f)"
   ]
  },
  {
   "cell_type": "code",
   "execution_count": null,
   "metadata": {},
   "outputs": [],
   "source": []
  },
  {
   "cell_type": "code",
   "execution_count": 66,
   "metadata": {},
   "outputs": [],
   "source": [
    "C2model = load_obj('/home/llr/cms/motta/HGCAL/CMSSW_11_1_0/src/GRAPHAnalysis/L1BDT/pklModels/calibration_C1skimC2C3_xgb/model_c2_th_PU200.pkl')"
   ]
  },
  {
   "cell_type": "code",
   "execution_count": 67,
   "metadata": {},
   "outputs": [],
   "source": [
    "with open('C2model.json') as json_file:\n",
    "    C2json = json.load(json_file)"
   ]
  },
  {
   "cell_type": "code",
   "execution_count": 68,
   "metadata": {},
   "outputs": [],
   "source": [
    "C2InputVariables = [['cl3d_abseta', 'F', '1.5', '3.0'], ['cl3d_coreshowerlength', 'F', '0.0', '36.0'], ['cl3d_meanz', 'F', '320.0', '515.0'], ['cl3d_showerlength','F', '0.0', '50.0'], ['cl3d_spptot', 'F', '0.0', '0.015'], ['cl3d_srrmean', 'F', '0.0', '0.01']]"
   ]
  },
  {
   "cell_type": "code",
   "execution_count": 69,
   "metadata": {},
   "outputs": [],
   "source": [
    "convert_model(C2model.get_booster().get_dump(), C2json, C2InputVariables, 'tmp.xml')"
   ]
  },
  {
   "cell_type": "code",
   "execution_count": 70,
   "metadata": {},
   "outputs": [],
   "source": [
    "!rm C2model_nonRscld_xgb.xml\n",
    "!xmllint --format tmp.xml >> C2model_nonRscld_xgb.xml\n",
    "!rm tmp.xml"
   ]
  },
  {
   "cell_type": "code",
   "execution_count": null,
   "metadata": {},
   "outputs": [],
   "source": []
  },
  {
   "cell_type": "code",
   "execution_count": 3,
   "metadata": {},
   "outputs": [],
   "source": [
    "PUmodel = load_obj('/home/llr/cms/motta/HGCAL/CMSSW_11_1_0/src/GRAPHAnalysis/L1BDT/pklModels/PUrejection_skimPUnoPt/model_PUrejection_th_PU200.pkl')"
   ]
  },
  {
   "cell_type": "code",
   "execution_count": 4,
   "metadata": {},
   "outputs": [],
   "source": [
    "PUInputVariables = [['cl3d_c3', 'F', '0.0', '15.0'], ['cl3d_coreshowerlength', 'F', '0.0', '36.0'], ['cl3d_srrtot', 'F', '0.0', '0.015'], ['cl3d_srrmean', 'F', '0.0', '0.01'], ['cl3d_hoe', 'F', '0.0', '2300.0'], ['cl3d_meanz', 'F', '320.0', '515.0']]"
   ]
  },
  {
   "cell_type": "code",
   "execution_count": 5,
   "metadata": {},
   "outputs": [],
   "source": [
    "convert_model(PUmodel.get_dump(), PUInputVariables, \"tmp.xml\")"
   ]
  },
  {
   "cell_type": "code",
   "execution_count": 6,
   "metadata": {},
   "outputs": [],
   "source": [
    "!rm PUmodel_nonRscld.xml\n",
    "!xmllint --format tmp.xml >> PUmodel_nonRscld.xml\n",
    "!rm tmp.xml"
   ]
  },
  {
   "cell_type": "code",
   "execution_count": null,
   "metadata": {},
   "outputs": [],
   "source": []
  },
  {
   "cell_type": "code",
   "execution_count": 7,
   "metadata": {},
   "outputs": [],
   "source": [
    "ISOmodel = load_obj('/home/llr/cms/motta/HGCAL/CMSSW_11_1_0/src/GRAPHAnalysis/L1BDT/pklModels/isolation_skimPUnoPt_skimISO90hardPUrej_againstPU/model_isolation_PUWP90_th_PU200.pkl')"
   ]
  },
  {
   "cell_type": "code",
   "execution_count": 8,
   "metadata": {},
   "outputs": [],
   "source": [
    "ISOInputVariables =  [['cl3d_pt_tr', 'F', '0.', '1000.'], ['cl3d_abseta', 'F', '1.5', '3.0'], ['cl3d_spptot', 'F', '0.', '0.015'], ['cl3d_srrtot', 'F', '0.', '0.015'], ['cl3d_srrmean', 'F', '0.', '0.01'], ['cl3d_hoe', 'F', '0.', '2300.'], ['cl3d_meanz', 'F', '320.', '515.'], ['cl3d_NclIso_dR4', 'F', '0', '20'], ['tower_etSgn_dRsgn1', 'F', '0.', '600.'], ['tower_etSgn_dRsgn2', 'F', '0.', '700.'], ['tower_etIso_dRsgn1_dRiso3', 'F', '0.', '1100.']]"
   ]
  },
  {
   "cell_type": "code",
   "execution_count": 9,
   "metadata": {},
   "outputs": [],
   "source": [
    "convert_model(ISOmodel.get_dump(), ISOInputVariables, \"tmp.xml\")"
   ]
  },
  {
   "cell_type": "code",
   "execution_count": 10,
   "metadata": {},
   "outputs": [],
   "source": [
    "!rm ISOmodel_nonRscld.xml\n",
    "!xmllint --format tmp.xml >> ISOmodel_nonRscld.xml\n",
    "!rm tmp.xml"
   ]
  },
  {
   "cell_type": "code",
   "execution_count": null,
   "metadata": {},
   "outputs": [],
   "source": []
  }
 ],
 "metadata": {
  "celltoolbar": "Raw Cell Format",
  "kernelspec": {
   "display_name": "Python 3",
   "language": "python",
   "name": "python3"
  },
  "language_info": {
   "codemirror_mode": {
    "name": "ipython",
    "version": 3
   },
   "file_extension": ".py",
   "mimetype": "text/x-python",
   "name": "python",
   "nbconvert_exporter": "python",
   "pygments_lexer": "ipython3",
   "version": "3.7.0"
  }
 },
 "nbformat": 4,
 "nbformat_minor": 2
}
