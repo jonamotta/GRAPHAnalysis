{
 "cells": [
  {
   "cell_type": "code",
   "execution_count": 1,
   "metadata": {},
   "outputs": [],
   "source": [
    "import pickle"
   ]
  },
  {
   "cell_type": "code",
   "execution_count": 2,
   "metadata": {},
   "outputs": [],
   "source": [
    "def save_obj(obj,dest):\n",
    "    with open(dest,'wb') as f:\n",
    "        pickle.dump(obj, f, pickle.HIGHEST_PROTOCOL)\n",
    "\n",
    "def load_obj(source):\n",
    "    with open(source,'rb') as f:\n",
    "        return pickle.load(f)"
   ]
  },
  {
   "cell_type": "code",
   "execution_count": 3,
   "metadata": {},
   "outputs": [],
   "source": [
    "C1model = load_obj('/home/llr/cms/motta/HGCAL/CMSSW_11_1_0/src/GRAPHAnalysis/L1BDT__/pklModels/calibration_C1skimC2C3/model_c1_th_PU200.pkl')"
   ]
  },
  {
   "cell_type": "code",
   "execution_count": 4,
   "metadata": {},
   "outputs": [
    {
     "name": "stdout",
     "output_type": "stream",
     "text": [
      "C1model\n",
      "m  =  -13.579992\n",
      "z0 =  46.845932\n"
     ]
    }
   ],
   "source": [
    "print('C1model')\n",
    "print('m  = ',C1model.coef_[0])\n",
    "print('z0 = ',C1model.intercept_)"
   ]
  },
  {
   "cell_type": "code",
   "execution_count": null,
   "metadata": {},
   "outputs": [],
   "source": []
  },
  {
   "cell_type": "code",
   "execution_count": 5,
   "metadata": {},
   "outputs": [],
   "source": [
    "C3model = load_obj('/home/llr/cms/motta/HGCAL/CMSSW_11_1_0/src/GRAPHAnalysis/L1BDT__/pklModels/calibration_C1skimC2C3/model_c3_th_PU200.pkl')"
   ]
  },
  {
   "cell_type": "code",
   "execution_count": 6,
   "metadata": {
    "scrolled": true
   },
   "outputs": [
    {
     "name": "stdout",
     "output_type": "stream",
     "text": [
      "C3model\n",
      "k0 =  89.48744954017626\n",
      "k1 =  -78.74611599043705\n",
      "k2 =  26.065299562489468\n",
      "k3 =  -3.7962604211791398\n",
      "k4 =  0.20467680824405576\n"
     ]
    }
   ],
   "source": [
    "print('C3model')\n",
    "print('k0 = ',C3model.intercept_)\n",
    "print('k1 = ',C3model.coef_[0])\n",
    "print('k2 = ',C3model.coef_[1])\n",
    "print('k3 = ',C3model.coef_[2])\n",
    "print('k4 = ',C3model.coef_[3])"
   ]
  },
  {
   "cell_type": "code",
   "execution_count": null,
   "metadata": {
    "scrolled": false
   },
   "outputs": [],
   "source": []
  },
  {
   "cell_type": "code",
   "execution_count": 65,
   "metadata": {},
   "outputs": [],
   "source": [
    "C2model_skl = load_obj('/home/llr/cms/motta/HGCAL/CMSSW_11_1_0/src/GRAPHAnalysis/L1BDT/pklModels/calibration_C1skimC2C3/model_c2_th_PU200.pkl')"
   ]
  },
  {
   "cell_type": "code",
   "execution_count": null,
   "metadata": {},
   "outputs": [],
   "source": []
  },
  {
   "cell_type": "code",
   "execution_count": 41,
   "metadata": {},
   "outputs": [],
   "source": [
    "C2model = load_obj('/home/llr/cms/motta/HGCAL/CMSSW_11_1_0/src/GRAPHAnalysis/L1BDT/pklModels/calibration_C1skimC2C3_xgb/model_c2_th_PU200.pkl')"
   ]
  },
  {
   "cell_type": "code",
   "execution_count": 42,
   "metadata": {},
   "outputs": [
    {
     "data": {
      "text/plain": [
       "['cl3d_showerlength',\n",
       " 'cl3d_coreshowerlength',\n",
       " 'cl3d_abseta',\n",
       " 'cl3d_spptot',\n",
       " 'cl3d_srrmean',\n",
       " 'cl3d_meanz']"
      ]
     },
     "execution_count": 42,
     "metadata": {},
     "output_type": "execute_result"
    }
   ],
   "source": [
    "C2model.get_booster().feature_names"
   ]
  },
  {
   "cell_type": "code",
   "execution_count": 43,
   "metadata": {},
   "outputs": [],
   "source": [
    "C2model.get_booster().dump_model('C2booster.json')"
   ]
  },
  {
   "cell_type": "code",
   "execution_count": 44,
   "metadata": {},
   "outputs": [],
   "source": [
    "C2model.save_model('C2model.json')"
   ]
  },
  {
   "cell_type": "code",
   "execution_count": 45,
   "metadata": {},
   "outputs": [],
   "source": [
    "import json"
   ]
  },
  {
   "cell_type": "code",
   "execution_count": 49,
   "metadata": {},
   "outputs": [],
   "source": [
    "with open('C2model.json') as json_file:\n",
    "    test = json.load(json_file)"
   ]
  },
  {
   "cell_type": "code",
   "execution_count": 61,
   "metadata": {},
   "outputs": [
    {
     "data": {
      "text/plain": [
       "0.046144154"
      ]
     },
     "execution_count": 61,
     "metadata": {},
     "output_type": "execute_result"
    }
   ],
   "source": [
    "test['learner']['gradient_booster']['model']['trees'][59]['base_weights'][45]"
   ]
  },
  {
   "cell_type": "code",
   "execution_count": null,
   "metadata": {
    "collapsed": true
   },
   "outputs": [],
   "source": []
  },
  {
   "cell_type": "code",
   "execution_count": 22,
   "metadata": {},
   "outputs": [],
   "source": [
    "PUmodel = load_obj('/home/llr/cms/motta/HGCAL/CMSSW_11_1_0/src/GRAPHAnalysis/L1BDT/pklModels/PUrejection_skimPUnoPt/model_PUrejection_th_PU200.pkl')"
   ]
  },
  {
   "cell_type": "code",
   "execution_count": 23,
   "metadata": {},
   "outputs": [
    {
     "data": {
      "text/plain": [
       "['cl3d_c3',\n",
       " 'cl3d_coreshowerlength',\n",
       " 'cl3d_srrtot',\n",
       " 'cl3d_srrmean',\n",
       " 'cl3d_hoe',\n",
       " 'cl3d_meanz']"
      ]
     },
     "execution_count": 23,
     "metadata": {},
     "output_type": "execute_result"
    }
   ],
   "source": [
    "PUmodel.feature_names"
   ]
  },
  {
   "cell_type": "code",
   "execution_count": 24,
   "metadata": {},
   "outputs": [],
   "source": [
    "PUmodel.dump_model('PUbooster.json')"
   ]
  },
  {
   "cell_type": "code",
   "execution_count": 25,
   "metadata": {},
   "outputs": [],
   "source": [
    "PUmodel.save_model('PUmodel.json')"
   ]
  },
  {
   "cell_type": "code",
   "execution_count": null,
   "metadata": {},
   "outputs": [],
   "source": []
  },
  {
   "cell_type": "code",
   "execution_count": 12,
   "metadata": {},
   "outputs": [],
   "source": [
    "ISOmodel = load_obj('/home/llr/cms/motta/HGCAL/CMSSW_11_1_0/src/GRAPHAnalysis/L1BDT/pklModels/isolation_skimPUnoPtRscld_skimISORscld90hardPUrej_againstPU/model_isolation_PUWP90_th_PU200.pkl')"
   ]
  },
  {
   "cell_type": "code",
   "execution_count": 13,
   "metadata": {},
   "outputs": [
    {
     "data": {
      "text/plain": [
       "['cl3d_pt_tr',\n",
       " 'cl3d_abseta',\n",
       " 'cl3d_spptot',\n",
       " 'cl3d_srrtot',\n",
       " 'cl3d_srrmean',\n",
       " 'cl3d_hoe',\n",
       " 'cl3d_meanz',\n",
       " 'cl3d_NclIso_dR4',\n",
       " 'tower_etSgn_dRsgn1',\n",
       " 'tower_etSgn_dRsgn2',\n",
       " 'tower_etIso_dRsgn1_dRiso3']"
      ]
     },
     "execution_count": 13,
     "metadata": {},
     "output_type": "execute_result"
    }
   ],
   "source": [
    "ISOmodel.feature_names"
   ]
  },
  {
   "cell_type": "code",
   "execution_count": null,
   "metadata": {},
   "outputs": [],
   "source": []
  },
  {
   "cell_type": "code",
   "execution_count": null,
   "metadata": {},
   "outputs": [],
   "source": []
  },
  {
   "cell_type": "code",
   "execution_count": null,
   "metadata": {},
   "outputs": [],
   "source": []
  },
  {
   "cell_type": "code",
   "execution_count": 33,
   "metadata": {},
   "outputs": [],
   "source": [
    "a = [9.5609063E-4,4.426452E-4,1.4609353E-2,-2.9295962E-2,7.962226E-4,7.2590075E-3,5.6327168E-2,9.599952E-3,-4.2729035E-2,3.6937097E-1,7.4001687E-4,1.6150124E-2,-2.7682217E-2,4.3958527E-1,3.8770784E-2,2.6540559E-2,-6.842421E-2,-6.287633E-2,-1.3485948E-4,8.020376E-1,9.1475815E-2,7.014761E-4,2.8951943E-1,-3.9180737E-2,2.7026234E-2,-8.7830104E-2,-5.7873838E-3,1.3332371E-1,9.0293896E-1,3.384512E-2,4.937853E-1,6.841546E-3,1.8105003E-1,-4.5749517E-3,-1.892803E-1,3.651675E-1,-6.540248E-2,7.087609E-2,-3.6349095E-2,4.0653694E-1,-5.2843798E-2,6.1831856E-3,-1.2588181E-3,7.5196075E-1,-4.5849264E-2,4.6144154E-2,-6.945339E-2,-4.2809658E-2,4.0699705E-2,-6.2614605E-2,-2.3624624E-1,-2.1701662E-2,1.8149476E-1,3.4017068E-1,-2.1027769E-1,2.2234155E-1,2.328685E-2]"
   ]
  },
  {
   "cell_type": "code",
   "execution_count": 34,
   "metadata": {},
   "outputs": [
    {
     "data": {
      "text/plain": [
       "57"
      ]
     },
     "execution_count": 34,
     "metadata": {},
     "output_type": "execute_result"
    }
   ],
   "source": [
    "len(a)"
   ]
  },
  {
   "cell_type": "code",
   "execution_count": null,
   "metadata": {},
   "outputs": [],
   "source": []
  }
 ],
 "metadata": {
  "kernelspec": {
   "display_name": "Python 3",
   "language": "python",
   "name": "python3"
  },
  "language_info": {
   "codemirror_mode": {
    "name": "ipython",
    "version": 3
   },
   "file_extension": ".py",
   "mimetype": "text/x-python",
   "name": "python",
   "nbconvert_exporter": "python",
   "pygments_lexer": "ipython3",
   "version": "3.7.0"
  }
 },
 "nbformat": 4,
 "nbformat_minor": 2
}
