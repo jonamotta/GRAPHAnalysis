{
 "cells": [
  {
   "cell_type": "markdown",
   "metadata": {},
   "source": [
    "# Bayesian Optimization of XGBoost hyperparameters for the PU rejection BDT"
   ]
  },
  {
   "cell_type": "code",
   "execution_count": 1,
   "metadata": {},
   "outputs": [],
   "source": [
    "import os\n",
    "import time\n",
    "import pandas as pd\n",
    "import numpy as np\n",
    "from matplotlib import pyplot as plt\n",
    "import xgboost as xgb\n",
    "import matplotlib\n",
    "import pickle\n",
    "from sklearn import metrics\n",
    "from sklearn.model_selection import train_test_split\n",
    "import matplotlib.lines as mlines\n",
    "from scipy.optimize import curve_fit\n",
    "from scipy.special import btdtri # beta quantile function\n",
    "from bayes_opt import BayesianOptimization"
   ]
  },
  {
   "cell_type": "code",
   "execution_count": 2,
   "metadata": {},
   "outputs": [],
   "source": [
    "def prepareCat(row):\n",
    "    if row['cl3d_isbestmatch'] == True and row['gentau_decayMode']>=0:\n",
    "        return 1\n",
    "    else:\n",
    "        return 0 "
   ]
  },
  {
   "cell_type": "code",
   "execution_count": 3,
   "metadata": {},
   "outputs": [],
   "source": [
    "indir = '/home/llr/cms/motta/HGCAL/CMSSW_11_1_0/src/GRAPHAnalysis/L1BDT/hdf5dataframes/calibrated'\n",
    "\n",
    "FE = 'threshold'\n",
    "\n",
    "inFileTraining_dict = {\n",
    "    'threshold'    : indir+'/Training_PU200_th_calibrated.hdf5',\n",
    "    'mixed'        : indir+'/'\n",
    "}\n",
    "\n",
    "# features for BDT training\n",
    "features = ['cl3d_abseta', 'cl3d_showerlength','cl3d_coreshowerlength', 'cl3d_firstlayer', 'cl3d_maxlayer', 'cl3d_szz', 'cl3d_seetot', 'cl3d_spptot', 'cl3d_srrtot', 'cl3d_srrmean', 'cl3d_hoe', 'cl3d_meanz', 'cl3d_layer10', 'cl3d_layer50', 'cl3d_layer90', 'cl3d_ntc67', 'cl3d_ntc90']\n",
    "output = 'gentau_pid'"
   ]
  },
  {
   "cell_type": "code",
   "execution_count": 4,
   "metadata": {},
   "outputs": [],
   "source": [
    "store_tr = pd.HDFStore(inFileTraining_dict[FE], mode='r')\n",
    "dfTraining = store_tr[FE]\n",
    "store_tr.close()\n",
    "\n",
    "dfTraining['gentau_pid'] = dfTraining.apply(lambda row: prepareCat(row), axis=1)\n",
    "dfTr = dfTraining.query('gentau_pid==1 or (gentau_pid==0 and gentau_decayMode!=-2)').copy(deep=True) # take all the taus and all the PU not coming from QCD sample\n",
    "\n",
    "del dfTraining"
   ]
  },
  {
   "cell_type": "code",
   "execution_count": 5,
   "metadata": {},
   "outputs": [],
   "source": [
    "X_train, X_test, y_train, y_test = train_test_split(dfTr[features], dfTr[output], stratufy=dfTr[output] test_size=0.3)\n",
    "dtrain = xgb.DMatrix(data=X_train,label=y_train, feature_names=features)\n",
    "dtest = xgb.DMatrix(data=X_test,label=y_test,feature_names=features)"
   ]
  },
  {
   "cell_type": "code",
   "execution_count": 6,
   "metadata": {},
   "outputs": [],
   "source": [
    "def xgb4bo(eta, max_depth, subsample, colsample_bytree, num_trees):\n",
    "    hyperparams = {'eval_metric'      : 'logloss',\n",
    "                   'objective'        : 'binary:logistic', # objective function\n",
    "                   'nthread'          : 10, # limit number of threads\n",
    "                   'eta'              : eta, # learning rate\n",
    "                   'max_depth'        : int(round(max_depth,0)), # maximum depth of a tree\n",
    "                   'subsample'        : subsample, # fraction of events to train tree on\n",
    "                   'colsample_bytree' : colsample_bytree,# fraction of features to train tree on\n",
    "    }\n",
    "\n",
    "    booster = xgb.train(hyperparams, dtrain, num_boost_round=int(round(num_trees,0)))\n",
    "    X_train['bdt_output'] = booster.predict(dtrain)\n",
    "    X_test['bdt_output'] = booster.predict(dtest)\n",
    "    auroc_test = metrics.roc_auc_score(y_test,X_test['bdt_output'])\n",
    "    auroc_train = metrics.roc_auc_score(y_train,X_train['bdt_output'])\n",
    "\n",
    "    # this function has a maximum for abs(auroc_train-auroc_test)=0 and auroc_train=1 which is our ideal goal\n",
    "    # its shape allows to have more control on the overtraining as the function plummets as soon as x moves from 0\n",
    "    # it give a little less control on the train auroc as there the function does not plummet as much\n",
    "    return 1/10**(abs(auroc_train-auroc_test)) - 1/100**(auroc_train)\n",
    "\n",
    "hypar_bounds = {'eta'              : (0.1, 0.3), \n",
    "                'max_depth'        : (3, 7),\n",
    "                'subsample'        : (0.6, 0.8),\n",
    "                'colsample_bytree' : (0.3, 0.9),\n",
    "                'num_trees'        : (50,150)}"
   ]
  },
  {
   "cell_type": "code",
   "execution_count": 7,
   "metadata": {
    "scrolled": false
   },
   "outputs": [],
   "source": [
    "xgb_bo = BayesianOptimization(f = xgb4bo, pbounds = hypar_bounds)"
   ]
  },
  {
   "cell_type": "code",
   "execution_count": 8,
   "metadata": {},
   "outputs": [
    {
     "name": "stdout",
     "output_type": "stream",
     "text": [
      "|   iter    |  target   | colsam... |    eta    | max_depth | num_trees | subsample |\n",
      "-------------------------------------------------------------------------------------\n",
      "| \u001b[0m 1       \u001b[0m | \u001b[0m 0.9462  \u001b[0m | \u001b[0m 0.3966  \u001b[0m | \u001b[0m 0.2382  \u001b[0m | \u001b[0m 6.38    \u001b[0m | \u001b[0m 131.9   \u001b[0m | \u001b[0m 0.7759  \u001b[0m |\n",
      "| \u001b[95m 2       \u001b[0m | \u001b[95m 0.9828  \u001b[0m | \u001b[95m 0.857   \u001b[0m | \u001b[95m 0.2072  \u001b[0m | \u001b[95m 3.681   \u001b[0m | \u001b[95m 65.47   \u001b[0m | \u001b[95m 0.6827  \u001b[0m |\n",
      "| \u001b[0m 3       \u001b[0m | \u001b[0m 0.9758  \u001b[0m | \u001b[0m 0.7874  \u001b[0m | \u001b[0m 0.2482  \u001b[0m | \u001b[0m 4.781   \u001b[0m | \u001b[0m 51.17   \u001b[0m | \u001b[0m 0.6727  \u001b[0m |\n",
      "| \u001b[0m 4       \u001b[0m | \u001b[0m 0.978   \u001b[0m | \u001b[0m 0.5686  \u001b[0m | \u001b[0m 0.1783  \u001b[0m | \u001b[0m 5.395   \u001b[0m | \u001b[0m 67.25   \u001b[0m | \u001b[0m 0.7535  \u001b[0m |\n",
      "| \u001b[0m 5       \u001b[0m | \u001b[0m 0.9788  \u001b[0m | \u001b[0m 0.781   \u001b[0m | \u001b[0m 0.1186  \u001b[0m | \u001b[0m 6.468   \u001b[0m | \u001b[0m 53.71   \u001b[0m | \u001b[0m 0.6332  \u001b[0m |\n",
      "| \u001b[95m 6       \u001b[0m | \u001b[95m 0.9829  \u001b[0m | \u001b[95m 0.4368  \u001b[0m | \u001b[95m 0.2405  \u001b[0m | \u001b[95m 3.421   \u001b[0m | \u001b[95m 130.1   \u001b[0m | \u001b[95m 0.6558  \u001b[0m |\n",
      "| \u001b[0m 7       \u001b[0m | \u001b[0m 0.9416  \u001b[0m | \u001b[0m 0.7363  \u001b[0m | \u001b[0m 0.1967  \u001b[0m | \u001b[0m 6.742   \u001b[0m | \u001b[0m 109.1   \u001b[0m | \u001b[0m 0.6928  \u001b[0m |\n",
      "| \u001b[0m 8       \u001b[0m | \u001b[0m 0.9825  \u001b[0m | \u001b[0m 0.569   \u001b[0m | \u001b[0m 0.2378  \u001b[0m | \u001b[0m 3.374   \u001b[0m | \u001b[0m 119.5   \u001b[0m | \u001b[0m 0.717   \u001b[0m |\n",
      "| \u001b[0m 9       \u001b[0m | \u001b[0m 0.975   \u001b[0m | \u001b[0m 0.7859  \u001b[0m | \u001b[0m 0.2924  \u001b[0m | \u001b[0m 3.779   \u001b[0m | \u001b[0m 88.34   \u001b[0m | \u001b[0m 0.7936  \u001b[0m |\n",
      "| \u001b[0m 10      \u001b[0m | \u001b[0m 0.9535  \u001b[0m | \u001b[0m 0.8648  \u001b[0m | \u001b[0m 0.1923  \u001b[0m | \u001b[0m 6.289   \u001b[0m | \u001b[0m 106.9   \u001b[0m | \u001b[0m 0.6983  \u001b[0m |\n",
      "| \u001b[95m 11      \u001b[0m | \u001b[95m 0.984   \u001b[0m | \u001b[95m 0.4788  \u001b[0m | \u001b[95m 0.2451  \u001b[0m | \u001b[95m 3.0     \u001b[0m | \u001b[95m 128.7   \u001b[0m | \u001b[95m 0.6     \u001b[0m |\n",
      "| \u001b[95m 12      \u001b[0m | \u001b[95m 0.984   \u001b[0m | \u001b[95m 0.4991  \u001b[0m | \u001b[95m 0.221   \u001b[0m | \u001b[95m 3.042   \u001b[0m | \u001b[95m 122.3   \u001b[0m | \u001b[95m 0.6948  \u001b[0m |\n",
      "| \u001b[0m 13      \u001b[0m | \u001b[0m 0.9635  \u001b[0m | \u001b[0m 0.9     \u001b[0m | \u001b[0m 0.1     \u001b[0m | \u001b[0m 5.508   \u001b[0m | \u001b[0m 121.6   \u001b[0m | \u001b[0m 0.8     \u001b[0m |\n",
      "| \u001b[0m 14      \u001b[0m | \u001b[0m 0.9828  \u001b[0m | \u001b[0m 0.5055  \u001b[0m | \u001b[0m 0.264   \u001b[0m | \u001b[0m 3.005   \u001b[0m | \u001b[0m 125.4   \u001b[0m | \u001b[0m 0.6777  \u001b[0m |\n",
      "| \u001b[0m 15      \u001b[0m | \u001b[0m 0.9747  \u001b[0m | \u001b[0m 0.7767  \u001b[0m | \u001b[0m 0.2071  \u001b[0m | \u001b[0m 4.997   \u001b[0m | \u001b[0m 63.0    \u001b[0m | \u001b[0m 0.6726  \u001b[0m |\n",
      "| \u001b[0m 16      \u001b[0m | \u001b[0m 0.9825  \u001b[0m | \u001b[0m 0.8644  \u001b[0m | \u001b[0m 0.26    \u001b[0m | \u001b[0m 3.006   \u001b[0m | \u001b[0m 117.0   \u001b[0m | \u001b[0m 0.668   \u001b[0m |\n",
      "| \u001b[95m 17      \u001b[0m | \u001b[95m 0.987   \u001b[0m | \u001b[95m 0.5003  \u001b[0m | \u001b[95m 0.2959  \u001b[0m | \u001b[95m 3.042   \u001b[0m | \u001b[95m 67.77   \u001b[0m | \u001b[95m 0.776   \u001b[0m |\n",
      "| \u001b[0m 18      \u001b[0m | \u001b[0m 0.9849  \u001b[0m | \u001b[0m 0.9     \u001b[0m | \u001b[0m 0.3     \u001b[0m | \u001b[0m 3.0     \u001b[0m | \u001b[0m 70.5    \u001b[0m | \u001b[0m 0.6     \u001b[0m |\n",
      "| \u001b[0m 19      \u001b[0m | \u001b[0m 0.9858  \u001b[0m | \u001b[0m 0.48    \u001b[0m | \u001b[0m 0.2882  \u001b[0m | \u001b[0m 3.383   \u001b[0m | \u001b[0m 75.13   \u001b[0m | \u001b[0m 0.6575  \u001b[0m |\n",
      "| \u001b[0m 20      \u001b[0m | \u001b[0m 0.9746  \u001b[0m | \u001b[0m 0.6603  \u001b[0m | \u001b[0m 0.1035  \u001b[0m | \u001b[0m 6.329   \u001b[0m | \u001b[0m 74.08   \u001b[0m | \u001b[0m 0.7463  \u001b[0m |\n",
      "| \u001b[0m 21      \u001b[0m | \u001b[0m 0.986   \u001b[0m | \u001b[0m 0.3     \u001b[0m | \u001b[0m 0.3     \u001b[0m | \u001b[0m 3.0     \u001b[0m | \u001b[0m 78.1    \u001b[0m | \u001b[0m 0.7778  \u001b[0m |\n",
      "| \u001b[0m 22      \u001b[0m | \u001b[0m 0.9614  \u001b[0m | \u001b[0m 0.9     \u001b[0m | \u001b[0m 0.3     \u001b[0m | \u001b[0m 5.442   \u001b[0m | \u001b[0m 80.88   \u001b[0m | \u001b[0m 0.6     \u001b[0m |\n",
      "| \u001b[0m 23      \u001b[0m | \u001b[0m 0.9844  \u001b[0m | \u001b[0m 0.7105  \u001b[0m | \u001b[0m 0.2809  \u001b[0m | \u001b[0m 3.014   \u001b[0m | \u001b[0m 76.94   \u001b[0m | \u001b[0m 0.7035  \u001b[0m |\n",
      "| \u001b[95m 24      \u001b[0m | \u001b[95m 0.9871  \u001b[0m | \u001b[95m 0.5053  \u001b[0m | \u001b[95m 0.162   \u001b[0m | \u001b[95m 3.088   \u001b[0m | \u001b[95m 72.91   \u001b[0m | \u001b[95m 0.6959  \u001b[0m |\n",
      "| \u001b[0m 25      \u001b[0m | \u001b[0m 0.9837  \u001b[0m | \u001b[0m 0.6053  \u001b[0m | \u001b[0m 0.1668  \u001b[0m | \u001b[0m 3.059   \u001b[0m | \u001b[0m 150.0   \u001b[0m | \u001b[0m 0.6793  \u001b[0m |\n",
      "| \u001b[0m 26      \u001b[0m | \u001b[0m 0.9393  \u001b[0m | \u001b[0m 0.7975  \u001b[0m | \u001b[0m 0.1461  \u001b[0m | \u001b[0m 6.992   \u001b[0m | \u001b[0m 149.6   \u001b[0m | \u001b[0m 0.7855  \u001b[0m |\n",
      "| \u001b[95m 27      \u001b[0m | \u001b[95m 0.9877  \u001b[0m | \u001b[95m 0.302   \u001b[0m | \u001b[95m 0.1412  \u001b[0m | \u001b[95m 3.21    \u001b[0m | \u001b[95m 95.71   \u001b[0m | \u001b[95m 0.7298  \u001b[0m |\n",
      "| \u001b[0m 28      \u001b[0m | \u001b[0m 0.9579  \u001b[0m | \u001b[0m 0.8864  \u001b[0m | \u001b[0m 0.1538  \u001b[0m | \u001b[0m 5.783   \u001b[0m | \u001b[0m 95.49   \u001b[0m | \u001b[0m 0.7865  \u001b[0m |\n",
      "| \u001b[0m 29      \u001b[0m | \u001b[0m 0.9869  \u001b[0m | \u001b[0m 0.3     \u001b[0m | \u001b[0m 0.1     \u001b[0m | \u001b[0m 3.0     \u001b[0m | \u001b[0m 97.3    \u001b[0m | \u001b[0m 0.6     \u001b[0m |\n",
      "| \u001b[0m 30      \u001b[0m | \u001b[0m 0.9865  \u001b[0m | \u001b[0m 0.3     \u001b[0m | \u001b[0m 0.2563  \u001b[0m | \u001b[0m 3.0     \u001b[0m | \u001b[0m 93.61   \u001b[0m | \u001b[0m 0.6     \u001b[0m |\n",
      "=====================================================================================\n",
      "\n",
      "Running time = 00h 26m 14s\n"
     ]
    }
   ],
   "source": [
    "start = time.time()\n",
    "\n",
    "xgb_bo.maximize(init_points=10, n_iter=20, acq='ei', alpha=1e-3)\n",
    "\n",
    "end = time.time()\n",
    "print('\\nRunning time = %02dh %02dm %02ds'%((end-start)/3600, ((end-start)%3600)/60, (end-start)% 60))"
   ]
  },
  {
   "cell_type": "code",
   "execution_count": 9,
   "metadata": {},
   "outputs": [
    {
     "data": {
      "text/plain": [
       "{'colsample_bytree': 0.30196448730679565,\n",
       " 'eta': 0.14117133696445328,\n",
       " 'max_depth': 3.209643695436438,\n",
       " 'num_trees': 95.7124023637034,\n",
       " 'subsample': 0.7298113379939855}"
      ]
     },
     "execution_count": 9,
     "metadata": {},
     "output_type": "execute_result"
    }
   ],
   "source": [
    "xgb_bo.max['params']"
   ]
  },
  {
   "cell_type": "code",
   "execution_count": null,
   "metadata": {},
   "outputs": [],
   "source": []
  }
 ],
 "metadata": {
  "kernelspec": {
   "display_name": "Python 3",
   "language": "python",
   "name": "python3"
  },
  "language_info": {
   "codemirror_mode": {
    "name": "ipython",
    "version": 3
   },
   "file_extension": ".py",
   "mimetype": "text/x-python",
   "name": "python",
   "nbconvert_exporter": "python",
   "pygments_lexer": "ipython3",
   "version": "3.7.0"
  }
 },
 "nbformat": 4,
 "nbformat_minor": 2
}
